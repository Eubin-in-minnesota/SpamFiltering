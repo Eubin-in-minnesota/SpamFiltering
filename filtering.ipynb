{
 "cells": [
  {
   "cell_type": "code",
   "execution_count": 2,
   "metadata": {},
   "outputs": [
    {
     "name": "stderr",
     "output_type": "stream",
     "text": [
      "Using TensorFlow backend.\n"
     ]
    }
   ],
   "source": [
    "import pandas as pd\n",
    "import numpy as np\n",
    "import codecs\n",
    "import konlpy\n",
    "from konlpy.tag import Okt\n",
    "from sklearn.model_selection import train_test_split\n",
    "from keras.preprocessing.text import Tokenizer \n",
    "from keras.layers import Embedding, Dense, LSTM \n",
    "from keras.models import Sequential \n",
    "from keras.preprocessing.sequence import pad_sequences"
   ]
  },
  {
   "cell_type": "markdown",
   "metadata": {},
   "source": [
    "### Data import"
   ]
  },
  {
   "cell_type": "code",
   "execution_count": 3,
   "metadata": {},
   "outputs": [],
   "source": [
    "train_new=pd.read_csv('./TEST_train_newlabel.csv', encoding='utf-8',index_col=False)\n",
    "test_new=pd.read_csv('./TEST_test_newlabel.csv', encoding='utf-8',index_col=False)"
   ]
  },
  {
   "cell_type": "code",
   "execution_count": 4,
   "metadata": {},
   "outputs": [],
   "source": [
    "# 10만개만 추출\n",
    "train_new=train_new.iloc[:100000,:] # 14500"
   ]
  },
  {
   "cell_type": "code",
   "execution_count": 5,
   "metadata": {},
   "outputs": [
    {
     "data": {
      "text/html": [
       "<div>\n",
       "<style scoped>\n",
       "    .dataframe tbody tr th:only-of-type {\n",
       "        vertical-align: middle;\n",
       "    }\n",
       "\n",
       "    .dataframe tbody tr th {\n",
       "        vertical-align: top;\n",
       "    }\n",
       "\n",
       "    .dataframe thead th {\n",
       "        text-align: right;\n",
       "    }\n",
       "</style>\n",
       "<table border=\"1\" class=\"dataframe\">\n",
       "  <thead>\n",
       "    <tr style=\"text-align: right;\">\n",
       "      <th></th>\n",
       "      <th>Unnamed: 0</th>\n",
       "      <th>title</th>\n",
       "      <th>newlabel</th>\n",
       "    </tr>\n",
       "  </thead>\n",
       "  <tbody>\n",
       "    <tr>\n",
       "      <th>0</th>\n",
       "      <td>0</td>\n",
       "      <td>&lt;유&gt;한성기업, 전일 대비 7.51% 상승.. 일일회전율은 2.20% 기록     ...</td>\n",
       "      <td>0</td>\n",
       "    </tr>\n",
       "    <tr>\n",
       "      <th>1</th>\n",
       "      <td>1</td>\n",
       "      <td>기업회원 87.2％ \"정부 및 지자체의 소상공인 지원 환영\"&lt;알바천국&gt;       ...</td>\n",
       "      <td>0</td>\n",
       "    </tr>\n",
       "    <tr>\n",
       "      <th>2</th>\n",
       "      <td>2</td>\n",
       "      <td>태국, 세 번째 비상사태 연장에 \"코로나 때문 vs 정치적 목적\"          ...</td>\n",
       "      <td>0</td>\n",
       "    </tr>\n",
       "    <tr>\n",
       "      <th>3</th>\n",
       "      <td>3</td>\n",
       "      <td>[포토] 서울농협, GKL 임직원과 농촌봉사활동                    ...</td>\n",
       "      <td>1</td>\n",
       "    </tr>\n",
       "    <tr>\n",
       "      <th>4</th>\n",
       "      <td>4</td>\n",
       "      <td>현대차, 군사 부문 수소전기차,충전소 보급 확대                    ...</td>\n",
       "      <td>0</td>\n",
       "    </tr>\n",
       "    <tr>\n",
       "      <th>...</th>\n",
       "      <td>...</td>\n",
       "      <td>...</td>\n",
       "      <td>...</td>\n",
       "    </tr>\n",
       "    <tr>\n",
       "      <th>99995</th>\n",
       "      <td>99995</td>\n",
       "      <td>인천·속초·수원, '스마트관광 도시' 후보지로 선정                  ...</td>\n",
       "      <td>0</td>\n",
       "    </tr>\n",
       "    <tr>\n",
       "      <th>99996</th>\n",
       "      <td>99996</td>\n",
       "      <td>'케어젠' 52주 신고가 경신, 전일 기관 대량 순매수                ...</td>\n",
       "      <td>0</td>\n",
       "    </tr>\n",
       "    <tr>\n",
       "      <th>99997</th>\n",
       "      <td>99997</td>\n",
       "      <td>홈플러스, ‘시그니처 캔커피’ 출시 2주만에 25만개 돌파              ...</td>\n",
       "      <td>1</td>\n",
       "    </tr>\n",
       "    <tr>\n",
       "      <th>99998</th>\n",
       "      <td>99998</td>\n",
       "      <td>안동 등 경북 3곳 폭염주의보                              ...</td>\n",
       "      <td>0</td>\n",
       "    </tr>\n",
       "    <tr>\n",
       "      <th>99999</th>\n",
       "      <td>99999</td>\n",
       "      <td>[사진]법정 향하는 조국                                 ...</td>\n",
       "      <td>1</td>\n",
       "    </tr>\n",
       "  </tbody>\n",
       "</table>\n",
       "<p>100000 rows × 3 columns</p>\n",
       "</div>"
      ],
      "text/plain": [
       "       Unnamed: 0                                              title  newlabel\n",
       "0               0  <유>한성기업, 전일 대비 7.51% 상승.. 일일회전율은 2.20% 기록     ...         0\n",
       "1               1  기업회원 87.2％ \"정부 및 지자체의 소상공인 지원 환영\"<알바천국>       ...         0\n",
       "2               2  태국, 세 번째 비상사태 연장에 \"코로나 때문 vs 정치적 목적\"          ...         0\n",
       "3               3  [포토] 서울농협, GKL 임직원과 농촌봉사활동                    ...         1\n",
       "4               4  현대차, 군사 부문 수소전기차,충전소 보급 확대                    ...         0\n",
       "...           ...                                                ...       ...\n",
       "99995       99995  인천·속초·수원, '스마트관광 도시' 후보지로 선정                  ...         0\n",
       "99996       99996  '케어젠' 52주 신고가 경신, 전일 기관 대량 순매수                ...         0\n",
       "99997       99997  홈플러스, ‘시그니처 캔커피’ 출시 2주만에 25만개 돌파              ...         1\n",
       "99998       99998  안동 등 경북 3곳 폭염주의보                              ...         0\n",
       "99999       99999  [사진]법정 향하는 조국                                 ...         1\n",
       "\n",
       "[100000 rows x 3 columns]"
      ]
     },
     "execution_count": 5,
     "metadata": {},
     "output_type": "execute_result"
    }
   ],
   "source": [
    "train_new"
   ]
  },
  {
   "cell_type": "markdown",
   "metadata": {},
   "source": [
    "### Data preprocessing"
   ]
  },
  {
   "cell_type": "code",
   "execution_count": 6,
   "metadata": {},
   "outputs": [
    {
     "data": {
      "text/plain": [
       "<matplotlib.axes._subplots.AxesSubplot at 0x1e683763f08>"
      ]
     },
     "execution_count": 6,
     "metadata": {},
     "output_type": "execute_result"
    },
    {
     "data": {
      "image/png": "[encoded data removed]",
      "text/plain": [
       "<Figure size 432x288 with 1 Axes>"
      ]
     },
     "metadata": {
      "needs_background": "light"
     },
     "output_type": "display_data"
    }
   ],
   "source": [
    "%matplotlib inline \n",
    "import matplotlib.pyplot as plt\n",
    "\n",
    "train_new['newlabel'].value_counts().plot(kind='bar')"
   ]
  },
  {
   "cell_type": "code",
   "execution_count": 7,
   "metadata": {},
   "outputs": [
    {
     "data": {
      "text/plain": [
       "<matplotlib.axes._subplots.AxesSubplot at 0x1e683844d48>"
      ]
     },
     "execution_count": 7,
     "metadata": {},
     "output_type": "execute_result"
    },
    {
     "data": {
      "image/png": "[encoded data removed]",
      "text/plain": [
       "<Figure size 432x288 with 1 Axes>"
      ]
     },
     "metadata": {
      "needs_background": "light"
     },
     "output_type": "display_data"
    }
   ],
   "source": [
    "test_new['newlabel'].value_counts().plot(kind='bar')"
   ]
  },
  {
   "cell_type": "code",
   "execution_count": 8,
   "metadata": {},
   "outputs": [
    {
     "name": "stdout",
     "output_type": "stream",
     "text": [
      "   newlabel  count\n",
      "0         0  85529\n",
      "1         1  14471\n",
      "   newlabel  count\n",
      "0         0   4431\n",
      "1         1    700\n"
     ]
    }
   ],
   "source": [
    "print(train_new.groupby('newlabel').size().reset_index(name='count')) \n",
    "print(test_new.groupby('newlabel').size().reset_index(name='count'))"
   ]
  },
  {
   "cell_type": "markdown",
   "metadata": {},
   "source": [
    "#### 불용어 제거"
   ]
  },
  {
   "cell_type": "code",
   "execution_count": 9,
   "metadata": {},
   "outputs": [],
   "source": [
    "stopwords = ['의', '가', '이', '은', '들', '는', '좀', '잘', '과', '도', '를', '으로', '자', '에', '와', '한', '하다']"
   ]
  },
  {
   "cell_type": "code",
   "execution_count": 10,
   "metadata": {},
   "outputs": [],
   "source": [
    "# 형태소 추출 후 불용어 제거\n",
    "okt = Okt()\n",
    "X_train = [] \n",
    "for sentence in train_new['title']: \n",
    "    temp_X = [] \n",
    "    temp_X = okt.morphs(sentence, stem=True) # 토큰화 \n",
    "    temp_X = [word for word in temp_X if not word in stopwords] # 불용어 제거 \n",
    "    X_train.append(temp_X)\n",
    "X_test = [] \n",
    "for sentence in test_new['title']: \n",
    "    temp_X = [] \n",
    "    temp_X = okt.morphs(sentence, stem=True) # 토큰화 \n",
    "    temp_X = [word for word in temp_X if not word in stopwords] # 불용어 제거 \n",
    "    X_test.append(temp_X)"
   ]
  },
  {
   "cell_type": "markdown",
   "metadata": {},
   "source": [
    "#### 토큰화: 단어들에 고유 번호 부여, 계산 처리하기 용이하기 때문"
   ]
  },
  {
   "cell_type": "code",
   "execution_count": 11,
   "metadata": {},
   "outputs": [],
   "source": [
    "# 정수 인코딩\n",
    "max_words = 35000 \n",
    "tokenizer = Tokenizer(num_words = max_words) \n",
    "tokenizer.fit_on_texts(X_train) \n",
    "X_train = tokenizer.texts_to_sequences(X_train) \n",
    "X_test = tokenizer.texts_to_sequences(X_test)"
   ]
  },
  {
   "cell_type": "markdown",
   "metadata": {},
   "source": [
    "#### 각 데이터 별 제목 최대 길이 추출 -> input 길이를 맞춰야 함"
   ]
  },
  {
   "cell_type": "code",
   "execution_count": 12,
   "metadata": {},
   "outputs": [
    {
     "name": "stdout",
     "output_type": "stream",
     "text": [
      "제목의 최대 길이 :  50\n",
      "제목의 평균 길이 :  12.78352\n"
     ]
    },
    {
     "data": {
      "image/png": "[encoded data removed]",
      "text/plain": [
       "<Figure size 432x288 with 1 Axes>"
      ]
     },
     "metadata": {
      "needs_background": "light"
     },
     "output_type": "display_data"
    }
   ],
   "source": [
    "# train\n",
    "print(\"제목의 최대 길이 : \", max(len(l) for l in X_train)) \n",
    "print(\"제목의 평균 길이 : \", sum(map(len, X_train))/ len(X_train)) \n",
    "plt.hist([len(s) for s in X_train], bins=50) \n",
    "plt.xlabel('length of Data') \n",
    "plt.ylabel('number of Data') \n",
    "plt.show()"
   ]
  },
  {
   "cell_type": "code",
   "execution_count": 13,
   "metadata": {},
   "outputs": [
    {
     "name": "stdout",
     "output_type": "stream",
     "text": [
      "제목의 최대 길이 :  30\n",
      "제목의 평균 길이 :  12.796530890664588\n"
     ]
    },
    {
     "data": {
      "image/png": "[encoded data removed]",
      "text/plain": [
       "<Figure size 432x288 with 1 Axes>"
      ]
     },
     "metadata": {
      "needs_background": "light"
     },
     "output_type": "display_data"
    }
   ],
   "source": [
    "# test\n",
    "print(\"제목의 최대 길이 : \", max(len(l) for l in X_test)) \n",
    "print(\"제목의 평균 길이 : \", sum(map(len, X_test))/ len(X_test)) \n",
    "plt.hist([len(s) for s in X_test], bins=50) \n",
    "plt.xlabel('length of Data') \n",
    "plt.ylabel('number of Data') \n",
    "plt.show()"
   ]
  },
  {
   "cell_type": "code",
   "execution_count": 14,
   "metadata": {},
   "outputs": [],
   "source": [
    "# y값 one-hot encoding\n",
    "import numpy as np \n",
    "y_train = [] \n",
    "y_test = [] \n",
    "for i in range(len(train_new['newlabel'])): \n",
    "    if train_new['newlabel'].iloc[i] == 1: \n",
    "        y_train.append([0, 1]) \n",
    "    elif train_new['newlabel'].iloc[i] == 0: \n",
    "        y_train.append([1, 0]) \n",
    "        \n",
    "y_train = np.array(y_train) \n",
    "\n",
    "\n",
    "for i in range(len(test_new['newlabel'])): \n",
    "    if test_new['newlabel'].iloc[i] == 1: \n",
    "        y_test.append([0, 1]) \n",
    "    elif test_new['newlabel'].iloc[i] == 0: \n",
    "        y_test.append([1, 0]) \n",
    "\n",
    "y_test = np.array(y_test)"
   ]
  },
  {
   "cell_type": "code",
   "execution_count": 15,
   "metadata": {},
   "outputs": [],
   "source": [
    "max_len = 50 # 제목 길이 50으로 맞추기 \n",
    "X_train = pad_sequences(X_train, maxlen=max_len) \n",
    "X_test = pad_sequences(X_test, maxlen=max_len)"
   ]
  },
  {
   "cell_type": "markdown",
   "metadata": {},
   "source": [
    "### Modeling"
   ]
  },
  {
   "cell_type": "code",
   "execution_count": 18,
   "metadata": {},
   "outputs": [
    {
     "name": "stdout",
     "output_type": "stream",
     "text": [
      "Train on 90000 samples, validate on 10000 samples\n",
      "Epoch 1/10\n",
      "90000/90000 [==============================] - 72s 802us/step - loss: 0.4632 - acc: 0.8409 - val_loss: 0.3301 - val_acc: 0.8580\n",
      "Epoch 2/10\n",
      "90000/90000 [==============================] - 70s 779us/step - loss: 0.2422 - acc: 0.8976 - val_loss: 0.1825 - val_acc: 0.9350\n",
      "Epoch 3/10\n",
      "90000/90000 [==============================] - 74s 825us/step - loss: 0.1122 - acc: 0.9613 - val_loss: 0.0897 - val_acc: 0.9693\n",
      "Epoch 4/10\n",
      "90000/90000 [==============================] - 71s 787us/step - loss: 0.0328 - acc: 0.9913 - val_loss: 0.0450 - val_acc: 0.9884\n",
      "Epoch 5/10\n",
      "90000/90000 [==============================] - 70s 781us/step - loss: 0.0110 - acc: 0.9974 - val_loss: 0.0379 - val_acc: 0.9904\n",
      "Epoch 6/10\n",
      "90000/90000 [==============================] - 77s 856us/step - loss: 0.0055 - acc: 0.9989 - val_loss: 0.0365 - val_acc: 0.9921\n",
      "Epoch 7/10\n",
      "90000/90000 [==============================] - 73s 812us/step - loss: 0.0036 - acc: 0.9992 - val_loss: 0.0412 - val_acc: 0.9917\n"
     ]
    }
   ],
   "source": [
    "import warnings\n",
    "warnings.filterwarnings('ignore')\n",
    "# Early Stopping 추가\n",
    "from keras.callbacks import EarlyStopping\n",
    "import tensorflow as tf\n",
    "from sklearn.metrics import roc_auc_score\n",
    "\n",
    "model = Sequential() \n",
    "model.add(Embedding(max_words, 100)) \n",
    "model.add(LSTM(128)) \n",
    "model.add(Dense(2, activation='softmax')) \n",
    "model.compile(optimizer='adam', loss='categorical_crossentropy', metrics=['accuracy']) \n",
    "early_stopping = EarlyStopping() \n",
    "history = model.fit(X_train, y_train, epochs=10, batch_size=3000, validation_split=0.1, callbacks=[early_stopping])"
   ]
  },
  {
   "cell_type": "markdown",
   "metadata": {},
   "source": [
    "### epoch 별 loss"
   ]
  },
  {
   "cell_type": "code",
   "execution_count": 20,
   "metadata": {},
   "outputs": [
    {
     "data": {
      "image/png": "[encoded data removed]",
      "text/plain": [
       "<Figure size 432x288 with 1 Axes>"
      ]
     },
     "metadata": {
      "needs_background": "light"
     },
     "output_type": "display_data"
    }
   ],
   "source": [
    "history_dict = history.history\n",
    "loss = history_dict['loss']\n",
    "val_loss = history_dict['val_loss']\n",
    "epochs = range(1, len(loss) + 1)\n",
    "plt.plot(epochs, loss, linestyle='--', marker='o', label='Training loss')  # ‘bo’는 점을 의미합니다.\n",
    "plt.plot(epochs, val_loss, linestyle='--', marker='o',  label='Validation loss') # ‘b’는 실선을 의미합니다.\n",
    "plt.title('Training and Validation Loss')\n",
    "plt.xlabel('Epochs')\n",
    "plt.ylabel('Loss')\n",
    "plt.legend()\n",
    "fig = plt.gcf()\n",
    "fig.savefig('loss_3000.png')\n",
    "plt.show()\n"
   ]
  },
  {
   "cell_type": "markdown",
   "metadata": {},
   "source": [
    "### epoch 별 accuracy"
   ]
  },
  {
   "cell_type": "code",
   "execution_count": 21,
   "metadata": {},
   "outputs": [
    {
     "data": {
      "image/png": "[encoded data removed]",
      "text/plain": [
       "<Figure size 432x288 with 1 Axes>"
      ]
     },
     "metadata": {
      "needs_background": "light"
     },
     "output_type": "display_data"
    }
   ],
   "source": [
    "plt.clf()\n",
    "acc = history_dict['acc']\n",
    "val_acc = history_dict['val_acc']\n",
    "\n",
    "plt.plot(epochs, acc, linestyle='--', marker='o', label='Training Accuracy')  \n",
    "plt.plot(epochs, val_acc, linestyle='--', marker='o',  label='Validation Accuracy') \n",
    "\n",
    "plt.title('Training and Validation Accuracy')\n",
    "plt.xlabel('Epochs')\n",
    "plt.ylabel('Accuracy')\n",
    "plt.legend()\n",
    "fig = plt.gcf()\n",
    "#fig.savefig('accuracy_3000.png')\n",
    "plt.show()"
   ]
  },
  {
   "cell_type": "markdown",
   "metadata": {},
   "source": [
    "## Model Evaluation"
   ]
  },
  {
   "cell_type": "code",
   "execution_count": 23,
   "metadata": {},
   "outputs": [
    {
     "name": "stdout",
     "output_type": "stream",
     "text": [
      "5131/5131 [==============================] - 1s 231us/step\n"
     ]
    }
   ],
   "source": [
    "loss_and_metrics = model.evaluate(X_test, y_test, batch_size=2000)"
   ]
  },
  {
   "cell_type": "markdown",
   "metadata": {},
   "source": [
    "### Prediction"
   ]
  },
  {
   "cell_type": "code",
   "execution_count": 30,
   "metadata": {},
   "outputs": [],
   "source": [
    "predict = model.predict(X_test)\n",
    "import numpy as np \n",
    "predict_labels = np.argmax(predict, axis=1) \n",
    "original_labels = np.argmax(y_test, axis=1)"
   ]
  },
  {
   "cell_type": "code",
   "execution_count": 31,
   "metadata": {},
   "outputs": [
    {
     "data": {
      "text/plain": [
       "0.9912297797700254"
      ]
     },
     "execution_count": 31,
     "metadata": {},
     "output_type": "execute_result"
    }
   ],
   "source": [
    "sum(predict_labels==original_labels)/len(predict_labels)"
   ]
  },
  {
   "cell_type": "code",
   "execution_count": 32,
   "metadata": {},
   "outputs": [
    {
     "data": {
      "text/plain": [
       "array([[4416,   15],\n",
       "       [  30,  670]], dtype=int64)"
      ]
     },
     "execution_count": 32,
     "metadata": {},
     "output_type": "execute_result"
    }
   ],
   "source": [
    "from sklearn.metrics import confusion_matrix\n",
    "\n",
    "y_true = original_labels\n",
    "y_pred = predict_labels\n",
    "\n",
    "confusion_matrix(y_true, y_pred)"
   ]
  },
  {
   "cell_type": "markdown",
   "metadata": {},
   "source": [
    "### Classification report"
   ]
  },
  {
   "cell_type": "code",
   "execution_count": 33,
   "metadata": {},
   "outputs": [
    {
     "name": "stdout",
     "output_type": "stream",
     "text": [
      "              precision    recall  f1-score   support\n",
      "\n",
      "      normal       0.99      1.00      0.99      4431\n",
      "        spam       0.98      0.96      0.97       700\n",
      "\n",
      "    accuracy                           0.99      5131\n",
      "   macro avg       0.99      0.98      0.98      5131\n",
      "weighted avg       0.99      0.99      0.99      5131\n",
      "\n"
     ]
    }
   ],
   "source": [
    "from sklearn.metrics import classification_report\n",
    "\n",
    "print(classification_report(y_true, y_pred, target_names=['normal', 'spam']))"
   ]
  }
 ],
 "metadata": {
  "kernelspec": {
   "display_name": "Python 3",
   "language": "python",
   "name": "python3"
  },
  "language_info": {
   "codemirror_mode": {
    "name": "ipython",
    "version": 3
   },
   "file_extension": ".py",
   "mimetype": "text/x-python",
   "name": "python",
   "nbconvert_exporter": "python",
   "pygments_lexer": "ipython3",
   "version": "3.7.5"
  }
 },
 "nbformat": 4,
 "nbformat_minor": 4
}
