{
 "cells": [
  {
   "cell_type": "code",
   "execution_count": 1,
   "metadata": {},
   "outputs": [
    {
     "name": "stderr",
     "output_type": "stream",
     "text": [
      "Using TensorFlow backend.\n"
     ]
    }
   ],
   "source": [
    "import pandas as pd\n",
    "import numpy as np\n",
    "import codecs\n",
    "import konlpy\n",
    "from konlpy.tag import Okt\n",
    "from sklearn.model_selection import train_test_split\n",
    "from keras.preprocessing.text import Tokenizer \n",
    "from keras.layers import Embedding, Dense, LSTM \n",
    "from keras.models import Sequential \n",
    "from keras.preprocessing.sequence import pad_sequences"
   ]
  },
  {
   "cell_type": "markdown",
   "metadata": {},
   "source": [
    "### Data import"
   ]
  },
  {
   "cell_type": "code",
   "execution_count": 2,
   "metadata": {},
   "outputs": [],
   "source": [
    "train_new=pd.read_csv('./train_newlabel.csv', encoding='utf-8',index_col=False)\n",
    "train_old=pd.read_csv('./train_oldlabel.csv', encoding='utf-8',index_col=False)\n",
    "test_old=pd.read_csv('./test_oldlabel.csv', encoding='utf-8',index_col=False)\n",
    "test_new=pd.read_csv('./test_newlabel.csv', encoding='utf-8',index_col=False)"
   ]
  },
  {
   "cell_type": "code",
   "execution_count": 3,
   "metadata": {},
   "outputs": [],
   "source": [
    "#train_new.drop(train_new.columns[[0]], axis=1, inplace=True) # 36027\n",
    "# 10만개만 추출\n",
    "train_new=train_new.iloc[:100000,:] # 14500\n",
    "#train_old.drop(train_old.columns[[0]], axis=1, inplace=True) # 7511\n",
    "#test_old.drop(test_old.columns[[0]], axis=1, inplace=True) # 161\n",
    "#test_new.drop(test_new.columns[[0]], axis=1, inplace=True) # 700"
   ]
  },
  {
   "cell_type": "code",
   "execution_count": 4,
   "metadata": {},
   "outputs": [
    {
     "data": {
      "text/html": [
       "<div>\n",
       "<style scoped>\n",
       "    .dataframe tbody tr th:only-of-type {\n",
       "        vertical-align: middle;\n",
       "    }\n",
       "\n",
       "    .dataframe tbody tr th {\n",
       "        vertical-align: top;\n",
       "    }\n",
       "\n",
       "    .dataframe thead th {\n",
       "        text-align: right;\n",
       "    }\n",
       "</style>\n",
       "<table border=\"1\" class=\"dataframe\">\n",
       "  <thead>\n",
       "    <tr style=\"text-align: right;\">\n",
       "      <th></th>\n",
       "      <th>Unnamed: 0</th>\n",
       "      <th>title</th>\n",
       "      <th>newlabel</th>\n",
       "    </tr>\n",
       "  </thead>\n",
       "  <tbody>\n",
       "    <tr>\n",
       "      <th>0</th>\n",
       "      <td>0</td>\n",
       "      <td>&lt;유&gt;한성기업, 전일 대비 7.51% 상승.. 일일회전율은 2.20% 기록     ...</td>\n",
       "      <td>0</td>\n",
       "    </tr>\n",
       "    <tr>\n",
       "      <th>1</th>\n",
       "      <td>1</td>\n",
       "      <td>기업회원 87.2％ \"정부 및 지자체의 소상공인 지원 환영\"&lt;알바천국&gt;       ...</td>\n",
       "      <td>0</td>\n",
       "    </tr>\n",
       "    <tr>\n",
       "      <th>2</th>\n",
       "      <td>2</td>\n",
       "      <td>태국, 세 번째 비상사태 연장에 \"코로나 때문 vs 정치적 목적\"          ...</td>\n",
       "      <td>0</td>\n",
       "    </tr>\n",
       "    <tr>\n",
       "      <th>3</th>\n",
       "      <td>3</td>\n",
       "      <td>[포토] 서울농협, GKL 임직원과 농촌봉사활동                    ...</td>\n",
       "      <td>1</td>\n",
       "    </tr>\n",
       "    <tr>\n",
       "      <th>4</th>\n",
       "      <td>4</td>\n",
       "      <td>현대차, 군사 부문 수소전기차,충전소 보급 확대                    ...</td>\n",
       "      <td>0</td>\n",
       "    </tr>\n",
       "    <tr>\n",
       "      <th>...</th>\n",
       "      <td>...</td>\n",
       "      <td>...</td>\n",
       "      <td>...</td>\n",
       "    </tr>\n",
       "    <tr>\n",
       "      <th>99995</th>\n",
       "      <td>99995</td>\n",
       "      <td>인천·속초·수원, '스마트관광 도시' 후보지로 선정                  ...</td>\n",
       "      <td>0</td>\n",
       "    </tr>\n",
       "    <tr>\n",
       "      <th>99996</th>\n",
       "      <td>99996</td>\n",
       "      <td>'케어젠' 52주 신고가 경신, 전일 기관 대량 순매수                ...</td>\n",
       "      <td>0</td>\n",
       "    </tr>\n",
       "    <tr>\n",
       "      <th>99997</th>\n",
       "      <td>99997</td>\n",
       "      <td>홈플러스, ‘시그니처 캔커피’ 출시 2주만에 25만개 돌파              ...</td>\n",
       "      <td>1</td>\n",
       "    </tr>\n",
       "    <tr>\n",
       "      <th>99998</th>\n",
       "      <td>99998</td>\n",
       "      <td>안동 등 경북 3곳 폭염주의보                              ...</td>\n",
       "      <td>0</td>\n",
       "    </tr>\n",
       "    <tr>\n",
       "      <th>99999</th>\n",
       "      <td>99999</td>\n",
       "      <td>[사진]법정 향하는 조국                                 ...</td>\n",
       "      <td>1</td>\n",
       "    </tr>\n",
       "  </tbody>\n",
       "</table>\n",
       "<p>100000 rows × 3 columns</p>\n",
       "</div>"
      ],
      "text/plain": [
       "       Unnamed: 0                                              title  newlabel\n",
       "0               0  <유>한성기업, 전일 대비 7.51% 상승.. 일일회전율은 2.20% 기록     ...         0\n",
       "1               1  기업회원 87.2％ \"정부 및 지자체의 소상공인 지원 환영\"<알바천국>       ...         0\n",
       "2               2  태국, 세 번째 비상사태 연장에 \"코로나 때문 vs 정치적 목적\"          ...         0\n",
       "3               3  [포토] 서울농협, GKL 임직원과 농촌봉사활동                    ...         1\n",
       "4               4  현대차, 군사 부문 수소전기차,충전소 보급 확대                    ...         0\n",
       "...           ...                                                ...       ...\n",
       "99995       99995  인천·속초·수원, '스마트관광 도시' 후보지로 선정                  ...         0\n",
       "99996       99996  '케어젠' 52주 신고가 경신, 전일 기관 대량 순매수                ...         0\n",
       "99997       99997  홈플러스, ‘시그니처 캔커피’ 출시 2주만에 25만개 돌파              ...         1\n",
       "99998       99998  안동 등 경북 3곳 폭염주의보                              ...         0\n",
       "99999       99999  [사진]법정 향하는 조국                                 ...         1\n",
       "\n",
       "[100000 rows x 3 columns]"
      ]
     },
     "execution_count": 4,
     "metadata": {},
     "output_type": "execute_result"
    }
   ],
   "source": [
    "train_new"
   ]
  },
  {
   "cell_type": "markdown",
   "metadata": {},
   "source": [
    "### 스팸 단어 리스트 import / test newlabel 구하기"
   ]
  },
  {
   "cell_type": "code",
   "execution_count": 5,
   "metadata": {},
   "outputs": [
    {
     "data": {
      "text/plain": [
       "''"
      ]
     },
     "execution_count": 5,
     "metadata": {},
     "output_type": "execute_result"
    }
   ],
   "source": [
    "positive = [] \n",
    "\n",
    "pos = codecs.open('./pos_2.txt', 'r') \n",
    "while True: \n",
    "    line = pos.readline() \n",
    "    line = line.replace('\\n', '') \n",
    "    positive.append(line) \n",
    "    if not line: \n",
    "        break \n",
    "        \n",
    "pos.close()\n",
    "positive.pop() # 마지막 값 제거 ('')"
   ]
  },
  {
   "cell_type": "code",
   "execution_count": 6,
   "metadata": {},
   "outputs": [],
   "source": [
    "titles=test_old.title\n",
    "label = [0] * len(titles)\n",
    "my_title_dic = {\"title\":[], \"newlabel\":label}\n",
    "\n",
    "j = 0\n",
    "for data in titles: \n",
    "    my_title_dic['title'].append(data)\n",
    "\n",
    "    for i in range(len(positive)): \n",
    "        posflag = False  \n",
    "        if data.find(positive[i]) != -1: \n",
    "            posflag = True \n",
    "            break \n",
    "\n",
    "        else:\n",
    "            posflag = False \n",
    "\n",
    "    if posflag == True: \n",
    "        label[j] = 1 \n",
    "    else: \n",
    "        label[j] = 0\n",
    "\n",
    "    j=j+1 \n",
    "    \n",
    "my_title_dic['newlabel'] = label \n",
    "my_title_df = pd.DataFrame(my_title_dic)"
   ]
  },
  {
   "cell_type": "code",
   "execution_count": 7,
   "metadata": {},
   "outputs": [
    {
     "data": {
      "text/plain": [
       "700"
      ]
     },
     "execution_count": 7,
     "metadata": {},
     "output_type": "execute_result"
    }
   ],
   "source": [
    "sum(label)"
   ]
  },
  {
   "cell_type": "code",
   "execution_count": 23,
   "metadata": {},
   "outputs": [],
   "source": [
    "def dftoCsv(my_title_df): \n",
    "    my_title_df.to_csv(('./test_newlabel.csv'), sep=',', na_rep='NaN', encoding='utf-8')\n",
    "dftoCsv(my_title_df)"
   ]
  },
  {
   "cell_type": "code",
   "execution_count": 22,
   "metadata": {},
   "outputs": [
    {
     "data": {
      "text/html": [
       "<div>\n",
       "<style scoped>\n",
       "    .dataframe tbody tr th:only-of-type {\n",
       "        vertical-align: middle;\n",
       "    }\n",
       "\n",
       "    .dataframe tbody tr th {\n",
       "        vertical-align: top;\n",
       "    }\n",
       "\n",
       "    .dataframe thead th {\n",
       "        text-align: right;\n",
       "    }\n",
       "</style>\n",
       "<table border=\"1\" class=\"dataframe\">\n",
       "  <thead>\n",
       "    <tr style=\"text-align: right;\">\n",
       "      <th></th>\n",
       "      <th>title</th>\n",
       "      <th>label</th>\n",
       "    </tr>\n",
       "  </thead>\n",
       "  <tbody>\n",
       "    <tr>\n",
       "      <th>0</th>\n",
       "      <td>콜마비앤에이치(200130), 52주 신고가                      ...</td>\n",
       "      <td>0</td>\n",
       "    </tr>\n",
       "    <tr>\n",
       "      <th>1</th>\n",
       "      <td>VC 투자+기보 보증 ‘레버리지보증’ 나왔다                      ...</td>\n",
       "      <td>0</td>\n",
       "    </tr>\n",
       "    <tr>\n",
       "      <th>2</th>\n",
       "      <td>[인사]예금보험공사                                    ...</td>\n",
       "      <td>0</td>\n",
       "    </tr>\n",
       "    <tr>\n",
       "      <th>3</th>\n",
       "      <td>'삼부토건' 5% 이상 상승, 전일 외국인 대량 순매수                ...</td>\n",
       "      <td>0</td>\n",
       "    </tr>\n",
       "    <tr>\n",
       "      <th>4</th>\n",
       "      <td>숨랩 | 여름용 마스크 ‘라이트 마스크’ 뜨거운 반응                 ...</td>\n",
       "      <td>0</td>\n",
       "    </tr>\n",
       "    <tr>\n",
       "      <th>...</th>\n",
       "      <td>...</td>\n",
       "      <td>...</td>\n",
       "    </tr>\n",
       "    <tr>\n",
       "      <th>5126</th>\n",
       "      <td>에스엔유(080000)  소폭 상승세 +4.51%, 닷새째 상승           ...</td>\n",
       "      <td>0</td>\n",
       "    </tr>\n",
       "    <tr>\n",
       "      <th>5127</th>\n",
       "      <td>건보공단, 아프리카 감비아에 '건강보험 통합패키지' 전파 추진            ...</td>\n",
       "      <td>0</td>\n",
       "    </tr>\n",
       "    <tr>\n",
       "      <th>5128</th>\n",
       "      <td>완도군-목포대 '2021 완도국제해조류박람회' 성공개최 맞손             ...</td>\n",
       "      <td>0</td>\n",
       "    </tr>\n",
       "    <tr>\n",
       "      <th>5129</th>\n",
       "      <td>[윤중로] 코로나 묵시록                                 ...</td>\n",
       "      <td>0</td>\n",
       "    </tr>\n",
       "    <tr>\n",
       "      <th>5130</th>\n",
       "      <td>잇츠한불, +8.94% VI 발동                            ...</td>\n",
       "      <td>0</td>\n",
       "    </tr>\n",
       "  </tbody>\n",
       "</table>\n",
       "<p>5131 rows × 2 columns</p>\n",
       "</div>"
      ],
      "text/plain": [
       "                                                  title  label\n",
       "0     콜마비앤에이치(200130), 52주 신고가                      ...      0\n",
       "1     VC 투자+기보 보증 ‘레버리지보증’ 나왔다                      ...      0\n",
       "2     [인사]예금보험공사                                    ...      0\n",
       "3     '삼부토건' 5% 이상 상승, 전일 외국인 대량 순매수                ...      0\n",
       "4     숨랩 | 여름용 마스크 ‘라이트 마스크’ 뜨거운 반응                 ...      0\n",
       "...                                                 ...    ...\n",
       "5126  에스엔유(080000)  소폭 상승세 +4.51%, 닷새째 상승           ...      0\n",
       "5127  건보공단, 아프리카 감비아에 '건강보험 통합패키지' 전파 추진            ...      0\n",
       "5128  완도군-목포대 '2021 완도국제해조류박람회' 성공개최 맞손             ...      0\n",
       "5129  [윤중로] 코로나 묵시록                                 ...      0\n",
       "5130  잇츠한불, +8.94% VI 발동                            ...      0\n",
       "\n",
       "[5131 rows x 2 columns]"
      ]
     },
     "execution_count": 22,
     "metadata": {},
     "output_type": "execute_result"
    }
   ],
   "source": [
    "test_old"
   ]
  },
  {
   "cell_type": "code",
   "execution_count": 18,
   "metadata": {},
   "outputs": [],
   "source": [
    "def dftoCsv(my_title_df): \n",
    "    my_title_df.to_csv(('./train_newlabel.csv'), sep=',', na_rep='NaN', encoding='utf-8')\n",
    "dftoCsv(my_title_df)"
   ]
  },
  {
   "cell_type": "markdown",
   "metadata": {},
   "source": [
    "### Data preprocessing"
   ]
  },
  {
   "cell_type": "code",
   "execution_count": 8,
   "metadata": {},
   "outputs": [
    {
     "data": {
      "text/plain": [
       "<matplotlib.axes._subplots.AxesSubplot at 0x2036d1aeac8>"
      ]
     },
     "execution_count": 8,
     "metadata": {},
     "output_type": "execute_result"
    },
    {
     "data": {
      "image/png": "[encoded data removed]",
      "text/plain": [
       "<Figure size 432x288 with 1 Axes>"
      ]
     },
     "metadata": {
      "needs_background": "light"
     },
     "output_type": "display_data"
    }
   ],
   "source": [
    "%matplotlib inline \n",
    "import matplotlib.pyplot as plt\n",
    "\n",
    "train_new['newlabel'].value_counts().plot(kind='bar')"
   ]
  },
  {
   "cell_type": "code",
   "execution_count": 9,
   "metadata": {},
   "outputs": [
    {
     "data": {
      "text/plain": [
       "<matplotlib.axes._subplots.AxesSubplot at 0x2036d15b6c8>"
      ]
     },
     "execution_count": 9,
     "metadata": {},
     "output_type": "execute_result"
    },
    {
     "data": {
      "image/png": "[encoded data removed]",
      "text/plain": [
       "<Figure size 432x288 with 1 Axes>"
      ]
     },
     "metadata": {
      "needs_background": "light"
     },
     "output_type": "display_data"
    }
   ],
   "source": [
    "test_new['newlabel'].value_counts().plot(kind='bar')"
   ]
  },
  {
   "cell_type": "code",
   "execution_count": 10,
   "metadata": {},
   "outputs": [
    {
     "name": "stdout",
     "output_type": "stream",
     "text": [
      "   newlabel  count\n",
      "0         0  85500\n",
      "1         1  14500\n",
      "   newlabel  count\n",
      "0         0   4431\n",
      "1         1    700\n"
     ]
    }
   ],
   "source": [
    "print(train_new.groupby('newlabel').size().reset_index(name='count')) \n",
    "print(test_new.groupby('newlabel').size().reset_index(name='count'))"
   ]
  },
  {
   "cell_type": "markdown",
   "metadata": {},
   "source": [
    "#### 불용어 제거"
   ]
  },
  {
   "cell_type": "code",
   "execution_count": 11,
   "metadata": {},
   "outputs": [],
   "source": [
    "stopwords = ['의', '가', '이', '은', '들', '는', '좀', '잘', '과', '도', '를', '으로', '자', '에', '와', '한', '하다']"
   ]
  },
  {
   "cell_type": "code",
   "execution_count": 12,
   "metadata": {},
   "outputs": [],
   "source": [
    "# 형태소 추출 후 불용어 제거\n",
    "okt = Okt()\n",
    "X_train = [] \n",
    "for sentence in train_new['title']: \n",
    "    temp_X = [] \n",
    "    temp_X = okt.morphs(sentence, stem=True) # 토큰화 \n",
    "    temp_X = [word for word in temp_X if not word in stopwords] # 불용어 제거 \n",
    "    X_train.append(temp_X)\n",
    "X_test = [] \n",
    "for sentence in test_new['title']: \n",
    "    temp_X = [] \n",
    "    temp_X = okt.morphs(sentence, stem=True) # 토큰화 \n",
    "    temp_X = [word for word in temp_X if not word in stopwords] # 불용어 제거 \n",
    "    X_test.append(temp_X)"
   ]
  },
  {
   "cell_type": "markdown",
   "metadata": {},
   "source": [
    "#### 토큰화: 단어들에 고유 번호 부여, 계산 처리하기 용이하기 때문"
   ]
  },
  {
   "cell_type": "code",
   "execution_count": 13,
   "metadata": {},
   "outputs": [],
   "source": [
    "# 정수 인코딩\n",
    "max_words = 35000 \n",
    "tokenizer = Tokenizer(num_words = max_words) \n",
    "tokenizer.fit_on_texts(X_train) \n",
    "X_train = tokenizer.texts_to_sequences(X_train) \n",
    "X_test = tokenizer.texts_to_sequences(X_test)"
   ]
  },
  {
   "cell_type": "markdown",
   "metadata": {},
   "source": [
    "#### 각 데이터 별 제목 최대 길이 추출 -> input 길이를 맞춰야 함"
   ]
  },
  {
   "cell_type": "code",
   "execution_count": 14,
   "metadata": {},
   "outputs": [
    {
     "name": "stdout",
     "output_type": "stream",
     "text": [
      "제목의 최대 길이 :  50\n",
      "제목의 평균 길이 :  12.78352\n"
     ]
    },
    {
     "data": {
      "image/png": "[encoded data removed]",
      "text/plain": [
       "<Figure size 432x288 with 1 Axes>"
      ]
     },
     "metadata": {
      "needs_background": "light"
     },
     "output_type": "display_data"
    }
   ],
   "source": [
    "# train\n",
    "print(\"제목의 최대 길이 : \", max(len(l) for l in X_train)) \n",
    "print(\"제목의 평균 길이 : \", sum(map(len, X_train))/ len(X_train)) \n",
    "plt.hist([len(s) for s in X_train], bins=50) \n",
    "plt.xlabel('length of Data') \n",
    "plt.ylabel('number of Data') \n",
    "plt.show()"
   ]
  },
  {
   "cell_type": "code",
   "execution_count": 15,
   "metadata": {},
   "outputs": [
    {
     "name": "stdout",
     "output_type": "stream",
     "text": [
      "제목의 최대 길이 :  30\n",
      "제목의 평균 길이 :  12.796530890664588\n"
     ]
    },
    {
     "data": {
      "image/png": "[encoded data removed]",
      "text/plain": [
       "<Figure size 432x288 with 1 Axes>"
      ]
     },
     "metadata": {
      "needs_background": "light"
     },
     "output_type": "display_data"
    }
   ],
   "source": [
    "# test\n",
    "print(\"제목의 최대 길이 : \", max(len(l) for l in X_test)) \n",
    "print(\"제목의 평균 길이 : \", sum(map(len, X_test))/ len(X_test)) \n",
    "plt.hist([len(s) for s in X_test], bins=50) \n",
    "plt.xlabel('length of Data') \n",
    "plt.ylabel('number of Data') \n",
    "plt.show()"
   ]
  },
  {
   "cell_type": "code",
   "execution_count": 16,
   "metadata": {},
   "outputs": [],
   "source": [
    "# y값 one-hot encoding\n",
    "import numpy as np \n",
    "y_train = [] \n",
    "y_test = [] \n",
    "for i in range(len(train_new['newlabel'])): \n",
    "    if train_new['newlabel'].iloc[i] == 1: \n",
    "        y_train.append([0, 1]) \n",
    "    elif train_new['newlabel'].iloc[i] == 0: \n",
    "        y_train.append([1, 0]) \n",
    "        \n",
    "y_train = np.array(y_train) \n",
    "\n",
    "\n",
    "for i in range(len(test_new['newlabel'])): \n",
    "    if test_new['newlabel'].iloc[i] == 1: \n",
    "        y_test.append([0, 1]) \n",
    "    elif test_new['newlabel'].iloc[i] == 0: \n",
    "        y_test.append([1, 0]) \n",
    "\n",
    "y_test = np.array(y_test)"
   ]
  },
  {
   "cell_type": "code",
   "execution_count": 53,
   "metadata": {},
   "outputs": [
    {
     "data": {
      "text/html": [
       "<div>\n",
       "<style scoped>\n",
       "    .dataframe tbody tr th:only-of-type {\n",
       "        vertical-align: middle;\n",
       "    }\n",
       "\n",
       "    .dataframe tbody tr th {\n",
       "        vertical-align: top;\n",
       "    }\n",
       "\n",
       "    .dataframe thead th {\n",
       "        text-align: right;\n",
       "    }\n",
       "</style>\n",
       "<table border=\"1\" class=\"dataframe\">\n",
       "  <thead>\n",
       "    <tr style=\"text-align: right;\">\n",
       "      <th></th>\n",
       "      <th>Unnamed: 0</th>\n",
       "      <th>title</th>\n",
       "      <th>newlabel</th>\n",
       "    </tr>\n",
       "  </thead>\n",
       "  <tbody>\n",
       "    <tr>\n",
       "      <th>0</th>\n",
       "      <td>0</td>\n",
       "      <td>&lt;유&gt;한성기업, 전일 대비 7.51% 상승.. 일일회전율은 2.20% 기록     ...</td>\n",
       "      <td>0</td>\n",
       "    </tr>\n",
       "    <tr>\n",
       "      <th>1</th>\n",
       "      <td>1</td>\n",
       "      <td>기업회원 87.2％ \"정부 및 지자체의 소상공인 지원 환영\"&lt;알바천국&gt;       ...</td>\n",
       "      <td>0</td>\n",
       "    </tr>\n",
       "    <tr>\n",
       "      <th>2</th>\n",
       "      <td>2</td>\n",
       "      <td>태국, 세 번째 비상사태 연장에 \"코로나 때문 vs 정치적 목적\"          ...</td>\n",
       "      <td>0</td>\n",
       "    </tr>\n",
       "    <tr>\n",
       "      <th>3</th>\n",
       "      <td>3</td>\n",
       "      <td>[포토] 서울농협, GKL 임직원과 농촌봉사활동                    ...</td>\n",
       "      <td>1</td>\n",
       "    </tr>\n",
       "    <tr>\n",
       "      <th>4</th>\n",
       "      <td>4</td>\n",
       "      <td>현대차, 군사 부문 수소전기차,충전소 보급 확대                    ...</td>\n",
       "      <td>0</td>\n",
       "    </tr>\n",
       "    <tr>\n",
       "      <th>...</th>\n",
       "      <td>...</td>\n",
       "      <td>...</td>\n",
       "      <td>...</td>\n",
       "    </tr>\n",
       "    <tr>\n",
       "      <th>99995</th>\n",
       "      <td>99995</td>\n",
       "      <td>인천·속초·수원, '스마트관광 도시' 후보지로 선정                  ...</td>\n",
       "      <td>0</td>\n",
       "    </tr>\n",
       "    <tr>\n",
       "      <th>99996</th>\n",
       "      <td>99996</td>\n",
       "      <td>'케어젠' 52주 신고가 경신, 전일 기관 대량 순매수                ...</td>\n",
       "      <td>0</td>\n",
       "    </tr>\n",
       "    <tr>\n",
       "      <th>99997</th>\n",
       "      <td>99997</td>\n",
       "      <td>홈플러스, ‘시그니처 캔커피’ 출시 2주만에 25만개 돌파              ...</td>\n",
       "      <td>1</td>\n",
       "    </tr>\n",
       "    <tr>\n",
       "      <th>99998</th>\n",
       "      <td>99998</td>\n",
       "      <td>안동 등 경북 3곳 폭염주의보                              ...</td>\n",
       "      <td>0</td>\n",
       "    </tr>\n",
       "    <tr>\n",
       "      <th>99999</th>\n",
       "      <td>99999</td>\n",
       "      <td>[사진]법정 향하는 조국                                 ...</td>\n",
       "      <td>1</td>\n",
       "    </tr>\n",
       "  </tbody>\n",
       "</table>\n",
       "<p>100000 rows × 3 columns</p>\n",
       "</div>"
      ],
      "text/plain": [
       "       Unnamed: 0                                              title  newlabel\n",
       "0               0  <유>한성기업, 전일 대비 7.51% 상승.. 일일회전율은 2.20% 기록     ...         0\n",
       "1               1  기업회원 87.2％ \"정부 및 지자체의 소상공인 지원 환영\"<알바천국>       ...         0\n",
       "2               2  태국, 세 번째 비상사태 연장에 \"코로나 때문 vs 정치적 목적\"          ...         0\n",
       "3               3  [포토] 서울농협, GKL 임직원과 농촌봉사활동                    ...         1\n",
       "4               4  현대차, 군사 부문 수소전기차,충전소 보급 확대                    ...         0\n",
       "...           ...                                                ...       ...\n",
       "99995       99995  인천·속초·수원, '스마트관광 도시' 후보지로 선정                  ...         0\n",
       "99996       99996  '케어젠' 52주 신고가 경신, 전일 기관 대량 순매수                ...         0\n",
       "99997       99997  홈플러스, ‘시그니처 캔커피’ 출시 2주만에 25만개 돌파              ...         1\n",
       "99998       99998  안동 등 경북 3곳 폭염주의보                              ...         0\n",
       "99999       99999  [사진]법정 향하는 조국                                 ...         1\n",
       "\n",
       "[100000 rows x 3 columns]"
      ]
     },
     "execution_count": 53,
     "metadata": {},
     "output_type": "execute_result"
    }
   ],
   "source": [
    "train_new"
   ]
  },
  {
   "cell_type": "code",
   "execution_count": 17,
   "metadata": {},
   "outputs": [],
   "source": [
    "max_len = 50 # 전체 데이터의 길이를 20로 맞춘다 \n",
    "X_train = pad_sequences(X_train, maxlen=max_len) \n",
    "X_test = pad_sequences(X_test, maxlen=max_len)"
   ]
  },
  {
   "cell_type": "markdown",
   "metadata": {},
   "source": [
    "### Modeling"
   ]
  },
  {
   "cell_type": "code",
   "execution_count": 18,
   "metadata": {},
   "outputs": [
    {
     "name": "stdout",
     "output_type": "stream",
     "text": [
      "WARNING:tensorflow:From c:\\users\\eubin\\anaconda3\\envs\\my_env\\lib\\site-packages\\keras\\backend\\tensorflow_backend.py:71: The name tf.get_default_graph is deprecated. Please use tf.compat.v1.get_default_graph instead.\n",
      "\n",
      "WARNING:tensorflow:From c:\\users\\eubin\\anaconda3\\envs\\my_env\\lib\\site-packages\\keras\\backend\\tensorflow_backend.py:514: The name tf.placeholder is deprecated. Please use tf.compat.v1.placeholder instead.\n",
      "\n",
      "WARNING:tensorflow:From c:\\users\\eubin\\anaconda3\\envs\\my_env\\lib\\site-packages\\keras\\backend\\tensorflow_backend.py:4076: The name tf.random_uniform is deprecated. Please use tf.random.uniform instead.\n",
      "\n",
      "WARNING:tensorflow:From c:\\users\\eubin\\anaconda3\\envs\\my_env\\lib\\site-packages\\keras\\optimizers.py:757: The name tf.train.Optimizer is deprecated. Please use tf.compat.v1.train.Optimizer instead.\n",
      "\n",
      "WARNING:tensorflow:From c:\\users\\eubin\\anaconda3\\envs\\my_env\\lib\\site-packages\\keras\\backend\\tensorflow_backend.py:3213: The name tf.log is deprecated. Please use tf.math.log instead.\n",
      "\n",
      "WARNING:tensorflow:From c:\\users\\eubin\\anaconda3\\envs\\my_env\\lib\\site-packages\\tensorflow\\python\\ops\\math_grad.py:1250: add_dispatch_support.<locals>.wrapper (from tensorflow.python.ops.array_ops) is deprecated and will be removed in a future version.\n",
      "Instructions for updating:\n",
      "Use tf.where in 2.0, which has the same broadcast rule as np.where\n",
      "WARNING:tensorflow:From c:\\users\\eubin\\anaconda3\\envs\\my_env\\lib\\site-packages\\keras\\backend\\tensorflow_backend.py:983: The name tf.assign_add is deprecated. Please use tf.compat.v1.assign_add instead.\n",
      "\n",
      "Train on 90000 samples, validate on 10000 samples\n",
      "Epoch 1/10\n",
      "90000/90000 [==============================] - 79s 880us/step - loss: 0.4556 - acc: 0.8416 - auroc: 0.7766 - val_loss: 0.3284 - val_acc: 0.8603 - val_auroc: 0.9365\n",
      "Epoch 2/10\n",
      "90000/90000 [==============================] - 80s 884us/step - loss: 0.2351 - acc: 0.9010 - auroc: 0.9470 - val_loss: 0.1755 - val_acc: 0.9329 - val_auroc: 0.9524\n",
      "Epoch 3/10\n",
      "90000/90000 [==============================] - 78s 869us/step - loss: 0.1022 - acc: 0.9640 - auroc: 0.9855 - val_loss: 0.0840 - val_acc: 0.9729 - val_auroc: 0.9879\n",
      "Epoch 4/10\n",
      "90000/90000 [==============================] - 77s 859us/step - loss: 0.0283 - acc: 0.9928 - auroc: 0.9985 - val_loss: 0.0428 - val_acc: 0.9890 - val_auroc: 0.9933\n",
      "Epoch 5/10\n",
      "90000/90000 [==============================] - 77s 856us/step - loss: 0.0096 - acc: 0.9978 - auroc: 0.9997 - val_loss: 0.0407 - val_acc: 0.9896 - val_auroc: 0.9938\n",
      "Epoch 6/10\n",
      "90000/90000 [==============================] - 82s 911us/step - loss: 0.0044 - acc: 0.9991 - auroc: 0.9999 - val_loss: 0.0459 - val_acc: 0.9882 - val_auroc: 0.9938\n"
     ]
    }
   ],
   "source": [
    "# Early Stopping 추가\n",
    "from keras.callbacks import EarlyStopping\n",
    "import tensorflow as tf\n",
    "from sklearn.metrics import roc_auc_score\n",
    "\n",
    "def auroc(y_true, y_pred):\n",
    "    return tf.py_function(roc_auc_score, (y_true, y_pred), tf.double)\n",
    "\n",
    "model = Sequential() \n",
    "model.add(Embedding(max_words, 100)) \n",
    "model.add(LSTM(128)) \n",
    "model.add(Dense(2, activation='softmax')) \n",
    "model.compile(optimizer='adam', loss='categorical_crossentropy', metrics=['accuracy', auroc]) \n",
    "early_stopping = EarlyStopping() \n",
    "history = model.fit(X_train, y_train, epochs=10, batch_size=3000, validation_split=0.1, callbacks=[early_stopping])"
   ]
  },
  {
   "cell_type": "code",
   "execution_count": 73,
   "metadata": {},
   "outputs": [
    {
     "data": {
      "text/plain": [
       "[0.05616756400398008, 0.9877216906673935, 0.9893730923665609]"
      ]
     },
     "execution_count": 73,
     "metadata": {},
     "output_type": "execute_result"
    }
   ],
   "source": [
    "loss_and_metrics"
   ]
  },
  {
   "cell_type": "markdown",
   "metadata": {},
   "source": [
    "### epoch 별 loss"
   ]
  },
  {
   "cell_type": "code",
   "execution_count": 19,
   "metadata": {},
   "outputs": [
    {
     "data": {
      "image/png": "[encoded data removed]",
      "text/plain": [
       "<Figure size 432x288 with 1 Axes>"
      ]
     },
     "metadata": {
      "needs_background": "light"
     },
     "output_type": "display_data"
    }
   ],
   "source": [
    "history_dict = history.history\n",
    "loss = history_dict['loss']\n",
    "val_loss = history_dict['val_loss']\n",
    "epochs = range(1, len(loss) + 1)\n",
    "plt.plot(epochs, loss, linestyle='--', marker='o', label='Training loss')  # ‘bo’는 점을 의미합니다.\n",
    "plt.plot(epochs, val_loss, linestyle='--', marker='o',  label='Validation loss') # ‘b’는 실선을 의미합니다.\n",
    "plt.title('Training and Validation Loss')\n",
    "plt.xlabel('Epochs')\n",
    "plt.ylabel('Loss')\n",
    "plt.legend()\n",
    "fig = plt.gcf()\n",
    "fig.savefig('loss_3000.png')\n",
    "plt.show()\n"
   ]
  },
  {
   "cell_type": "markdown",
   "metadata": {},
   "source": [
    "### epoch 별 accuracy"
   ]
  },
  {
   "cell_type": "code",
   "execution_count": 20,
   "metadata": {},
   "outputs": [
    {
     "data": {
      "image/png": "[encoded data removed]",
      "text/plain": [
       "<Figure size 432x288 with 1 Axes>"
      ]
     },
     "metadata": {
      "needs_background": "light"
     },
     "output_type": "display_data"
    }
   ],
   "source": [
    "plt.clf() # 그래프를 초기화합니다.\n",
    "acc = history_dict['acc']\n",
    "val_acc = history_dict['val_acc']\n",
    "\n",
    "plt.plot(epochs, acc, linestyle='--', marker='o', label='Training Accuracy')  # ‘bo’는 점을 의미합니다.\n",
    "plt.plot(epochs, val_acc, linestyle='--', marker='o',  label='Validation Accuracy') # ‘b’는 실선을 의미합니다.\n",
    "\n",
    "plt.title('Training and Validation Accuracy')\n",
    "plt.xlabel('Epochs')\n",
    "plt.ylabel('Accuracy')\n",
    "plt.legend()\n",
    "fig = plt.gcf()\n",
    "fig.savefig('accuracy_3000.png')\n",
    "plt.show()\n"
   ]
  },
  {
   "cell_type": "markdown",
   "metadata": {},
   "source": [
    "### epoch 별 auc"
   ]
  },
  {
   "cell_type": "code",
   "execution_count": 21,
   "metadata": {},
   "outputs": [
    {
     "data": {
      "image/png": "[encoded data removed]",
      "text/plain": [
       "<Figure size 432x288 with 1 Axes>"
      ]
     },
     "metadata": {
      "needs_background": "light"
     },
     "output_type": "display_data"
    }
   ],
   "source": [
    "acc = history_dict['auroc']\n",
    "val_acc = history_dict['val_auroc']\n",
    "\n",
    "plt.plot(epochs, acc, linestyle='--', marker='o', label='Training AUC')\n",
    "plt.plot(epochs, val_acc, linestyle='--', marker='o', label='Validation AUC')\n",
    "plt.title('Training and Validation AUC')\n",
    "plt.xlabel('Epochs')\n",
    "plt.ylabel('AUC')\n",
    "plt.legend()\n",
    "fig = plt.gcf()\n",
    "fig.savefig('auc_3000.png')\n",
    "plt.show()\n"
   ]
  },
  {
   "cell_type": "markdown",
   "metadata": {},
   "source": [
    "## Model Evaluation"
   ]
  },
  {
   "cell_type": "code",
   "execution_count": 72,
   "metadata": {},
   "outputs": [
    {
     "name": "stdout",
     "output_type": "stream",
     "text": [
      "5131/5131 [==============================] - 1s 235us/step\n"
     ]
    }
   ],
   "source": [
    "loss_and_metrics = model.evaluate(X_test, y_test, batch_size=2000)"
   ]
  },
  {
   "cell_type": "code",
   "execution_count": 22,
   "metadata": {},
   "outputs": [
    {
     "name": "stdout",
     "output_type": "stream",
     "text": [
      "기사제목 :  콜마비앤에이치(200130), 52주 신고가                                                                                                                    /\t 원래 라벨 :  0 /\t예측한 라벨 :  0\n",
      "기사제목 :  VC 투자+기보 보증 ‘레버리지보증’ 나왔다                                                                                                              /\t 원래 라벨 :  0 /\t예측한 라벨 :  0\n",
      "기사제목 :  [인사]예금보험공사                                                                                                                                     /\t 원래 라벨 :  1 /\t예측한 라벨 :  1\n",
      "기사제목 :  '삼부토건' 5% 이상 상승, 전일 외국인 대량 순매수                                                                                                       /\t 원래 라벨 :  0 /\t예측한 라벨 :  0\n",
      "기사제목 :  숨랩 | 여름용 마스크 ‘라이트 마스크’ 뜨거운 반응                                                                                                     /\t 원래 라벨 :  0 /\t예측한 라벨 :  0\n",
      "기사제목 :  잇츠한불(226320) 현재 13.97% 상승                                                                                                                      /\t 원래 라벨 :  0 /\t예측한 라벨 :  0\n",
      "기사제목 :  넷마블, +2.82% 52주 신고가                                                                                                                             /\t 원래 라벨 :  0 /\t예측한 라벨 :  0\n",
      "기사제목 :  여자친구, '변화 열망' 담은 앨범으로 컴백…방시혁 지원사격                                                                                              /\t 원래 라벨 :  0 /\t예측한 라벨 :  0\n",
      "기사제목 :  비디아이 \"Eleison 주식 250억원어치 취득…지분율 51%\"                                                                                                   /\t 원래 라벨 :  0 /\t예측한 라벨 :  0\n",
      "기사제목 :  서울 송파구, 새 도시 브랜드·캐릭터 개발                                                                                                               /\t 원래 라벨 :  0 /\t예측한 라벨 :  0\n"
     ]
    }
   ],
   "source": [
    "predict = model.predict(X_test)\n",
    "import numpy as np \n",
    "predict_labels = np.argmax(predict, axis=1) \n",
    "original_labels = np.argmax(y_test, axis=1)\n",
    "for i in range(10): \n",
    "    print(\"기사제목 : \", test_new['title'].iloc[i], \"/\\t 원래 라벨 : \", original_labels[i], \"/\\t예측한 라벨 : \", predict_labels[i])\n"
   ]
  },
  {
   "cell_type": "code",
   "execution_count": 23,
   "metadata": {},
   "outputs": [
    {
     "data": {
      "text/plain": [
       "0.9873319041122588"
      ]
     },
     "execution_count": 23,
     "metadata": {},
     "output_type": "execute_result"
    }
   ],
   "source": [
    "sum(predict_labels==original_labels)/len(predict_labels)"
   ]
  },
  {
   "cell_type": "code",
   "execution_count": 77,
   "metadata": {},
   "outputs": [
    {
     "data": {
      "text/plain": [
       "5131"
      ]
     },
     "execution_count": 77,
     "metadata": {},
     "output_type": "execute_result"
    }
   ],
   "source": [
    "len(predict_labels)"
   ]
  },
  {
   "cell_type": "code",
   "execution_count": 78,
   "metadata": {},
   "outputs": [
    {
     "data": {
      "text/plain": [
       "705"
      ]
     },
     "execution_count": 78,
     "metadata": {},
     "output_type": "execute_result"
    }
   ],
   "source": [
    "sum(predict_labels)"
   ]
  },
  {
   "cell_type": "code",
   "execution_count": 99,
   "metadata": {},
   "outputs": [
    {
     "data": {
      "text/plain": [
       "5068"
      ]
     },
     "execution_count": 99,
     "metadata": {},
     "output_type": "execute_result"
    }
   ],
   "source": [
    "sum(predict_labels==original_labels)"
   ]
  },
  {
   "cell_type": "code",
   "execution_count": 100,
   "metadata": {},
   "outputs": [
    {
     "data": {
      "text/plain": [
       "5131"
      ]
     },
     "execution_count": 100,
     "metadata": {},
     "output_type": "execute_result"
    }
   ],
   "source": [
    "len(predict_labels)"
   ]
  },
  {
   "cell_type": "code",
   "execution_count": 101,
   "metadata": {},
   "outputs": [
    {
     "data": {
      "text/plain": [
       "array([[4397,   34],\n",
       "       [  29,  671]], dtype=int64)"
      ]
     },
     "execution_count": 101,
     "metadata": {},
     "output_type": "execute_result"
    }
   ],
   "source": [
    "from sklearn.metrics import confusion_matrix\n",
    "\n",
    "y_true = original_labels\n",
    "y_pred = predict_labels\n",
    "\n",
    "confusion_matrix(y_true, y_pred)"
   ]
  },
  {
   "cell_type": "code",
   "execution_count": 110,
   "metadata": {},
   "outputs": [
    {
     "name": "stdout",
     "output_type": "stream",
     "text": [
      "              precision    recall  f1-score   support\n",
      "\n",
      "      normal       0.99      0.99      0.99      4431\n",
      "        spam       0.95      0.96      0.96       700\n",
      "\n",
      "    accuracy                           0.99      5131\n",
      "   macro avg       0.97      0.98      0.97      5131\n",
      "weighted avg       0.99      0.99      0.99      5131\n",
      "\n"
     ]
    }
   ],
   "source": [
    "from sklearn.metrics import classification_report\n",
    "\n",
    "print(classification_report(y_true, y_pred, target_names=['normal', 'spam']))"
   ]
  },
  {
   "cell_type": "code",
   "execution_count": 24,
   "metadata": {},
   "outputs": [
    {
     "data": {
      "text/plain": [
       "array([0, 0, 1, ..., 1, 0, 0], dtype=int64)"
      ]
     },
     "execution_count": 24,
     "metadata": {},
     "output_type": "execute_result"
    }
   ],
   "source": [
    "predict_labels"
   ]
  },
  {
   "cell_type": "code",
   "execution_count": 26,
   "metadata": {},
   "outputs": [
    {
     "name": "stdout",
     "output_type": "stream",
     "text": [
      "기사제목 :  돌아온 野, ‘일하는 국회법’?‘윤석열 특검’ 앞세워 대여 투쟁 가속                                                                                     /\t 원래 라벨 :  1 /\t예측한 라벨 :  0\n",
      "기사제목 :  하나은행, `+α금리` 주는 청년직장인 맞춤적금                                                                                                           /\t 원래 라벨 :  0 /\t예측한 라벨 :  1\n",
      "기사제목 :  윤건영 \"박지원 국정원장 내정, 협치·탕평인사의 끝판\"                                                                                                   /\t 원래 라벨 :  1 /\t예측한 라벨 :  0\n",
      "기사제목 :  \"中, 올해 美에너지 수입 목표달성 어려워…1~5월 이행률 18% 불과\"                                                                                        /\t 원래 라벨 :  1 /\t예측한 라벨 :  0\n",
      "기사제목 :  중국서 또 터졌다…코로나 이어 돼지열병·흑사병까지 [종합]                                                                                              /\t 원래 라벨 :  1 /\t예측한 라벨 :  0\n",
      "기사제목 :  [IPO정보] [티에스아이 IR팀] 새로운 기업설명회 자료가 등록되었습니다.                                                                                   /\t 원래 라벨 :  0 /\t예측한 라벨 :  1\n",
      "기사제목 :  삼광글라스, '보에나' 두 번째 브랜드 필름 공개.. 썸머 특가 기획전 실시                                                                                  /\t 원래 라벨 :  0 /\t예측한 라벨 :  1\n",
      "기사제목 :  [속보] \"의정부 헬스클럽, 마스크 미착용·환기 미흡…19명 확진\"                                                                                          /\t 원래 라벨 :  1 /\t예측한 라벨 :  0\n",
      "기사제목 :  전통예술의 새 경향 제시…16~18일 '문밖의 사람들'                                                                                                       /\t 원래 라벨 :  1 /\t예측한 라벨 :  0\n",
      "기사제목 :  BOJ, 5~10년 국채 매입 증액(상보)                                                                                                                       /\t 원래 라벨 :  1 /\t예측한 라벨 :  0\n",
      "기사제목 :  이인영 “북미 대화와 남북 대화, 병행할지 선후 정할지 고민”                                                                                            /\t 원래 라벨 :  0 /\t예측한 라벨 :  1\n",
      "기사제목 :  ‘클린 LG화학’ 빅픽처 ‘친환경과 성장 공존’                                                                                                          /\t 원래 라벨 :  0 /\t예측한 라벨 :  1\n",
      "기사제목 :  中, 거액 현금 입출금 때 승인제 시범 도입…뱅크런 후유증                                                                                                /\t 원래 라벨 :  0 /\t예측한 라벨 :  1\n",
      "기사제목 :  '공수처 맹폭' 진중권 \"윤석열만 내치면 손 놓고 놀 것···대통령 노후보장보험\"                                                                          /\t 원래 라벨 :  0 /\t예측한 라벨 :  1\n",
      "기사제목 :  지역 특성 반영한 공유저작물 나눠요…'공유저작물 창작단' 모집                                                                                           /\t 원래 라벨 :  0 /\t예측한 라벨 :  1\n",
      "기사제목 :  11번가, 위니아딤채와 공동마케팅…김치냉장고 단독 선론칭                                                                                                /\t 원래 라벨 :  1 /\t예측한 라벨 :  0\n",
      "기사제목 :  인천, 건강기능식품 방문판매 설명회 관련 2명 추가 확진                                                                                                  /\t 원래 라벨 :  0 /\t예측한 라벨 :  1\n",
      "기사제목 :  대화제약(주) 기타 경영사항(특허권 취득)(자율공시)(국소마취제 및 폴리아크릴산나트륨을 포함하는 조성물)                                                  /\t 원래 라벨 :  1 /\t예측한 라벨 :  0\n",
      "기사제목 :  [리포트 브리핑]우리들휴브레인, '제 2 의 휴마시스' Not Rated - 한양증권                                                                                 /\t 원래 라벨 :  0 /\t예측한 라벨 :  1\n",
      "기사제목 :  셀트리온제약, 에이즈 치료제 'CT-G7' 글로벌 본격 출하                                                                                                   /\t 원래 라벨 :  0 /\t예측한 라벨 :  1\n",
      "기사제목 :  靑 외교안보인사에 野 \"굴종적 대북편향\" vs 與 \"시의적절…청문회 조속히\"                                                                                 /\t 원래 라벨 :  1 /\t예측한 라벨 :  0\n",
      "기사제목 :  '네오플 제주 아카데미' 참가자 모집                                                                                                                     /\t 원래 라벨 :  0 /\t예측한 라벨 :  1\n",
      "기사제목 :  나주시, 가축분뇨배출시설 특별 점검으로 여름철 악취 잡는다                        /\t 원래 라벨 :  1 /\t예측한 라벨 :  0\n",
      "기사제목 :  글로벌타임스 \"中, 코로나·홍수에도 올해 1~3% 성장 전망\"                                                                                                /\t 원래 라벨 :  1 /\t예측한 라벨 :  0\n",
      "기사제목 :  [Star&Talk] #살아있다’로 스크린 복귀 유아인 | 덜떨어진 청년 ‘준우’? “가장 나와 똑 닮은 인물”                                                      /\t 원래 라벨 :  1 /\t예측한 라벨 :  0\n",
      "기사제목 :  여름휴가 준비는 티몬에서…'2020 썸머브레이크' 기획전 진행                                                                                              /\t 원래 라벨 :  0 /\t예측한 라벨 :  1\n",
      "기사제목 :  文아들 2억 차익 공격 곽상도, 본인 잠실APT는 6~7억 올라                                                                                                 /\t 원래 라벨 :  1 /\t예측한 라벨 :  0\n",
      "기사제목 :  [청송촌놈] 이번주 옵션만기일 '양매도' 전략                                       /\t 원래 라벨 :  0 /\t예측한 라벨 :  1\n",
      "기사제목 :  한투증권 \"제2의 연봉킹 김연추를 찾습니다\"                                                                                                              /\t 원래 라벨 :  1 /\t예측한 라벨 :  0\n",
      "기사제목 :  홈플러스, 15일까지 장마용품 최대 40% 할인 판매                                                                                                         /\t 원래 라벨 :  0 /\t예측한 라벨 :  1\n",
      "기사제목 :  [오늘의 환율전망] 원/달러, 1199원 출발 예상                                                                                                            /\t 원래 라벨 :  0 /\t예측한 라벨 :  1\n",
      "기사제목 :  지그재그, `애슬레저 연합 기획전` 진행                                                                                                                  /\t 원래 라벨 :  0 /\t예측한 라벨 :  1\n",
      "기사제목 :  DB손해보험, 사고현장서 영상통화 상담…교통사고 처리도 언택트로                                                                                         /\t 원래 라벨 :  1 /\t예측한 라벨 :  0\n",
      "기사제목 :  [헤럴드pic] ‘그 이상의 변화!’                                                                                                                        /\t 원래 라벨 :  1 /\t예측한 라벨 :  0\n",
      "기사제목 :  日언론 \"비건 대표, 7~8일 방한\"                                                                                                                         /\t 원래 라벨 :  1 /\t예측한 라벨 :  0\n",
      "기사제목 :  부동산 후속 입법 밀어붙이는 정부·與…맞불법안 내놓은 野                                                                                               /\t 원래 라벨 :  0 /\t예측한 라벨 :  1\n",
      "기사제목 :  코로나 아직인데…中 이번엔 흑사병 '네이멍구 3급 경보'                            /\t 원래 라벨 :  0 /\t예측한 라벨 :  1\n",
      "기사제목 :  대화제약, 국소마취제 및 폴리아크릴산나트륨을 포함하는 조성물 관련 특허권                                                                               /\t 원래 라벨 :  1 /\t예측한 라벨 :  0\n",
      "기사제목 :  행인 지나는데 '피용'…해수욕장 밤하늘 '위험천만' 불꽃놀이                                                                                              /\t 원래 라벨 :  0 /\t예측한 라벨 :  1\n",
      "기사제목 :  50조 토지보상금 어디로… \"수도권 자극할까 우려\"                                                                                                        /\t 원래 라벨 :  0 /\t예측한 라벨 :  1\n",
      "기사제목 :  스케쳐스 코리아, 공식 온라인몰 연다                                                                                                                    /\t 원래 라벨 :  0 /\t예측한 라벨 :  1\n",
      "기사제목 :  11번가, '지역상생 기획전'으로 농·수산물 120억원치 판매                                                                                                /\t 원래 라벨 :  0 /\t예측한 라벨 :  1\n",
      "기사제목 :  中 홍콩보안법 가결에 美 '특별지위' 박탈…'강 대 강' 대결, 미·중 무역합의는 어떻게                                                                     /\t 원래 라벨 :  0 /\t예측한 라벨 :  1\n",
      "기사제목 :  '정도경영' 2년차 태광그룹, \"올해는 외부고객 만족\"                                /\t 원래 라벨 :  1 /\t예측한 라벨 :  0\n",
      "기사제목 :  [특징주]영화테크, 니콜라 제친 세계최초 수소트럭…현대차에 수소상용부품 공급                                                                            /\t 원래 라벨 :  0 /\t예측한 라벨 :  1\n",
      "기사제목 :  英, 올해 안에 5G 사업서 中 화웨이 제품 완전 배제... 佛은 '사용 자제' 권고                                                                              /\t 원래 라벨 :  0 /\t예측한 라벨 :  1\n",
      "기사제목 :  경협 냉각에도···일본선 '3차 한류' 뜨겁다                                                                                                            /\t 원래 라벨 :  0 /\t예측한 라벨 :  1\n",
      "기사제목 :  KB국민카드, 여러장 카드 카드 하나에 담아…때와 장소 따라 맘대로 골라 써                                                                                /\t 원래 라벨 :  0 /\t예측한 라벨 :  1\n",
      "기사제목 :  넷마블, 자체IP 흥행 3연타?...'마구마구2020 모바일' 8일 출격                                                                                            /\t 원래 라벨 :  1 /\t예측한 라벨 :  0\n",
      "기사제목 :  대전, 6일 오전 코로나19 2명 추가 확진...138~139번                                                                                                      /\t 원래 라벨 :  1 /\t예측한 라벨 :  0\n",
      "기사제목 :  \"여름휴가 준비 하세요\"…티몬 ‘2020 썸머브레이크’ 기획전                                                                                              /\t 원래 라벨 :  0 /\t예측한 라벨 :  1\n",
      "기사제목 :  기형도 시인, ‘나의 벗에게 쓴 편지’ 기획전                                                                                                            /\t 원래 라벨 :  0 /\t예측한 라벨 :  1\n",
      "기사제목 :  금융위 부위원장, 잔금대출 논란에 \"부족한 부분 추가 고민\"                                                                                               /\t 원래 라벨 :  0 /\t예측한 라벨 :  1\n",
      "기사제목 :  김연자 \"사람들이 날 '아모르파티 이모'라고…기적같은 노래\"                        /\t 원래 라벨 :  0 /\t예측한 라벨 :  1\n",
      "기사제목 :  일본은행, 5~10년 국채 매입 규모 증액                                                                                                                   /\t 원래 라벨 :  1 /\t예측한 라벨 :  0\n",
      "기사제목 :  이노밸류파트너즈, 21~23일 'JMP활용 실험계획법(DOE)' 진행                                                                                               /\t 원래 라벨 :  1 /\t예측한 라벨 :  0\n",
      "기사제목 :  태광그룹, 하반기 '외부고객 만족' 정도경영 추진                                                                                                         /\t 원래 라벨 :  1 /\t예측한 라벨 :  0\n",
      "기사제목 :  [한경 사설 깊이 읽기] 인구 집중 가속화…'서울 메갈로폴리스' 국제경쟁력 높여야                                                                          /\t 원래 라벨 :  1 /\t예측한 라벨 :  0\n",
      "기사제목 :  나주시 가축분뇨배출시설 특별 점검                                                                                                                      /\t 원래 라벨 :  1 /\t예측한 라벨 :  0\n",
      "기사제목 :  \"조회 API 수수료 낮춰야…핀테크사 사용률 저조\"                                                                                                         /\t 원래 라벨 :  0 /\t예측한 라벨 :  1\n",
      "기사제목 :  [정책발언대] 서민 가정경제 파탄 내는 유사수신행위 반드시 근절돼야                                                                                      /\t 원래 라벨 :  1 /\t예측한 라벨 :  0\n",
      "기사제목 :  인천서 50~80대 6명 확진...건강기능식품 방문판매 설명회 참석                                                                                            /\t 원래 라벨 :  1 /\t예측한 라벨 :  0\n",
      "기사제목 :  [연합시론] 기본과 디테일에 충실한 부동산 후속대책 기대한다                                                                                             /\t 원래 라벨 :  0 /\t예측한 라벨 :  1\n",
      "기사제목 :  [종합] 중대본 \"지역사회 발생 감소…최근 2주 36.8→31.1명\"                                                                                              /\t 원래 라벨 :  0 /\t예측한 라벨 :  1\n",
      "기사제목 :  거래량 터진 SK바이오팜 ‘고평가’ 논란                                                                                                                 /\t 원래 라벨 :  0 /\t예측한 라벨 :  1\n"
     ]
    }
   ],
   "source": [
    "predict = model.predict(X_test)\n",
    "import numpy as np \n",
    "predict_labels = np.argmax(predict, axis=1) \n",
    "original_labels = np.argmax(y_test, axis=1)\n",
    "\n",
    "for i in range(len(predict_labels)): \n",
    "    if predict_labels[i]!=original_labels[i]:\n",
    "        print(\"기사제목 : \", test_new['title'].iloc[i], \"/\\t 원래 라벨 : \", original_labels[i], \"/\\t예측한 라벨 : \", predict_labels[i])\n"
   ]
  },
  {
   "cell_type": "code",
   "execution_count": 27,
   "metadata": {},
   "outputs": [
    {
     "name": "stdout",
     "output_type": "stream",
     "text": [
      "기사제목 :  콜마비앤에이치(200130), 52주 신고가                                                                                                                    /\t 원래 라벨 :  0 /\t예측한 라벨 :  0\n",
      "기사제목 :  VC 투자+기보 보증 ‘레버리지보증’ 나왔다                                                                                                              /\t 원래 라벨 :  0 /\t예측한 라벨 :  0\n",
      "기사제목 :  [인사]예금보험공사                                                                                                                                     /\t 원래 라벨 :  1 /\t예측한 라벨 :  1\n",
      "기사제목 :  '삼부토건' 5% 이상 상승, 전일 외국인 대량 순매수                                                                                                       /\t 원래 라벨 :  0 /\t예측한 라벨 :  0\n",
      "기사제목 :  숨랩 | 여름용 마스크 ‘라이트 마스크’ 뜨거운 반응                                                                                                     /\t 원래 라벨 :  0 /\t예측한 라벨 :  0\n",
      "기사제목 :  잇츠한불(226320) 현재 13.97% 상승                                                                                                                      /\t 원래 라벨 :  0 /\t예측한 라벨 :  0\n",
      "기사제목 :  넷마블, +2.82% 52주 신고가                                                                                                                             /\t 원래 라벨 :  0 /\t예측한 라벨 :  0\n",
      "기사제목 :  여자친구, '변화 열망' 담은 앨범으로 컴백…방시혁 지원사격                                                                                              /\t 원래 라벨 :  0 /\t예측한 라벨 :  0\n",
      "기사제목 :  비디아이 \"Eleison 주식 250억원어치 취득…지분율 51%\"                                                                                                   /\t 원래 라벨 :  0 /\t예측한 라벨 :  0\n",
      "기사제목 :  서울 송파구, 새 도시 브랜드·캐릭터 개발                                                                                                               /\t 원래 라벨 :  0 /\t예측한 라벨 :  0\n",
      "기사제목 :  [장중수급포착] 나스미디어, 외국인 12,915주 대량 순매수... 주가 +7.87%                                                                                  /\t 원래 라벨 :  0 /\t예측한 라벨 :  0\n",
      "기사제목 :  대웅제약, 줄기세포 코로나19 치료제 인도네시아 임상 1상 승인                                                                                            /\t 원래 라벨 :  0 /\t예측한 라벨 :  0\n",
      "기사제목 :  NH농협은행, 미얀마 양곤사무소 설립인가 획득                                                                                                            /\t 원래 라벨 :  0 /\t예측한 라벨 :  0\n",
      "기사제목 :  이마트24, 야간시간 고객 한정 할인 혜택 제공                                                                                                            /\t 원래 라벨 :  0 /\t예측한 라벨 :  0\n",
      "기사제목 :  윌링스, 갑진에 '통신용 배터리팩' 전량 납품 완료                                                                                                        /\t 원래 라벨 :  0 /\t예측한 라벨 :  0\n",
      "기사제목 :  5G 투자 발 떼는 각국…反화웨이 기조에 韓장비 '수출 잰걸음'                                                                                             /\t 원래 라벨 :  0 /\t예측한 라벨 :  0\n",
      "기사제목 :  SBS '펜트하우스' 촬영장에 차량 돌진…\"스태프 5명 중경상\"                                                                                               /\t 원래 라벨 :  0 /\t예측한 라벨 :  0\n",
      "기사제목 :  김종인 \"정부, '정의와 공정' 내세웠지만…불공정·비정의의 화신\"                                                                                         /\t 원래 라벨 :  0 /\t예측한 라벨 :  0\n",
      "기사제목 :  [지난주 제약업계 주요뉴스] 셀트리온 ‘램시마SC’ 유럽서 IBD 적응증 승인권고 획득 外                                                                    /\t 원래 라벨 :  0 /\t예측한 라벨 :  0\n",
      "기사제목 :  '웰컴투 비디오' 손정우 미국 안 간다..法 \"면죄부 아냐\"                                                                                                  /\t 원래 라벨 :  0 /\t예측한 라벨 :  0\n"
     ]
    }
   ],
   "source": [
    "for i in range(20): \n",
    "    if predict_labels[i]==original_labels[i]:\n",
    "        print(\"기사제목 : \", test_new['title'].iloc[i], \"/\\t 원래 라벨 : \", original_labels[i], \"/\\t예측한 라벨 : \", predict_labels[i])\n"
   ]
  },
  {
   "cell_type": "code",
   "execution_count": 30,
   "metadata": {},
   "outputs": [
    {
     "name": "stdout",
     "output_type": "stream",
     "text": [
      "기사제목 :  콜마비앤에이치(200130), 52주 신고가                                                                                                                    /\t 원래 nh 라벨 :  0 /\t예측한 라벨 :  0\n",
      "기사제목 :  VC 투자+기보 보증 ‘레버리지보증’ 나왔다                                                                                                              /\t 원래 nh 라벨 :  0 /\t예측한 라벨 :  0\n",
      "기사제목 :  '삼부토건' 5% 이상 상승, 전일 외국인 대량 순매수                                                                                                       /\t 원래 nh 라벨 :  0 /\t예측한 라벨 :  0\n",
      "기사제목 :  숨랩 | 여름용 마스크 ‘라이트 마스크’ 뜨거운 반응                                                                                                     /\t 원래 nh 라벨 :  0 /\t예측한 라벨 :  0\n",
      "기사제목 :  잇츠한불(226320) 현재 13.97% 상승                                                                                                                      /\t 원래 nh 라벨 :  0 /\t예측한 라벨 :  0\n",
      "기사제목 :  넷마블, +2.82% 52주 신고가                                                                                                                             /\t 원래 nh 라벨 :  0 /\t예측한 라벨 :  0\n",
      "기사제목 :  여자친구, '변화 열망' 담은 앨범으로 컴백…방시혁 지원사격                                                                                              /\t 원래 nh 라벨 :  0 /\t예측한 라벨 :  0\n",
      "기사제목 :  비디아이 \"Eleison 주식 250억원어치 취득…지분율 51%\"                                                                                                   /\t 원래 nh 라벨 :  0 /\t예측한 라벨 :  0\n",
      "기사제목 :  서울 송파구, 새 도시 브랜드·캐릭터 개발                                                                                                               /\t 원래 nh 라벨 :  0 /\t예측한 라벨 :  0\n",
      "기사제목 :  [장중수급포착] 나스미디어, 외국인 12,915주 대량 순매수... 주가 +7.87%                                                                                  /\t 원래 nh 라벨 :  0 /\t예측한 라벨 :  0\n",
      "기사제목 :  대웅제약, 줄기세포 코로나19 치료제 인도네시아 임상 1상 승인                                                                                            /\t 원래 nh 라벨 :  0 /\t예측한 라벨 :  0\n",
      "기사제목 :  NH농협은행, 미얀마 양곤사무소 설립인가 획득                                                                                                            /\t 원래 nh 라벨 :  0 /\t예측한 라벨 :  0\n",
      "기사제목 :  이마트24, 야간시간 고객 한정 할인 혜택 제공                                                                                                            /\t 원래 nh 라벨 :  0 /\t예측한 라벨 :  0\n",
      "기사제목 :  윌링스, 갑진에 '통신용 배터리팩' 전량 납품 완료                                                                                                        /\t 원래 nh 라벨 :  0 /\t예측한 라벨 :  0\n",
      "기사제목 :  5G 투자 발 떼는 각국…反화웨이 기조에 韓장비 '수출 잰걸음'                                                                                             /\t 원래 nh 라벨 :  0 /\t예측한 라벨 :  0\n",
      "기사제목 :  SBS '펜트하우스' 촬영장에 차량 돌진…\"스태프 5명 중경상\"                                                                                               /\t 원래 nh 라벨 :  0 /\t예측한 라벨 :  0\n",
      "기사제목 :  김종인 \"정부, '정의와 공정' 내세웠지만…불공정·비정의의 화신\"                                                                                         /\t 원래 nh 라벨 :  0 /\t예측한 라벨 :  0\n",
      "기사제목 :  [지난주 제약업계 주요뉴스] 셀트리온 ‘램시마SC’ 유럽서 IBD 적응증 승인권고 획득 外                                                                    /\t 원래 nh 라벨 :  0 /\t예측한 라벨 :  0\n",
      "기사제목 :  '웰컴투 비디오' 손정우 미국 안 간다..法 \"면죄부 아냐\"                                                                                                  /\t 원래 nh 라벨 :  0 /\t예측한 라벨 :  0\n"
     ]
    }
   ],
   "source": [
    "for i in range(20): \n",
    "    if test_old.label[i]==predict_labels[i]:\n",
    "        print(\"기사제목 : \", test_new['title'].iloc[i], \"/\\t 원래 nh 라벨 : \", original_labels[i], \"/\\t예측한 라벨 : \", predict_labels[i])\n"
   ]
  },
  {
   "cell_type": "code",
   "execution_count": 28,
   "metadata": {},
   "outputs": [
    {
     "data": {
      "text/html": [
       "<div>\n",
       "<style scoped>\n",
       "    .dataframe tbody tr th:only-of-type {\n",
       "        vertical-align: middle;\n",
       "    }\n",
       "\n",
       "    .dataframe tbody tr th {\n",
       "        vertical-align: top;\n",
       "    }\n",
       "\n",
       "    .dataframe thead th {\n",
       "        text-align: right;\n",
       "    }\n",
       "</style>\n",
       "<table border=\"1\" class=\"dataframe\">\n",
       "  <thead>\n",
       "    <tr style=\"text-align: right;\">\n",
       "      <th></th>\n",
       "      <th>Unnamed: 0</th>\n",
       "      <th>title</th>\n",
       "      <th>label</th>\n",
       "    </tr>\n",
       "  </thead>\n",
       "  <tbody>\n",
       "    <tr>\n",
       "      <th>0</th>\n",
       "      <td>2831</td>\n",
       "      <td>콜마비앤에이치(200130), 52주 신고가                      ...</td>\n",
       "      <td>0</td>\n",
       "    </tr>\n",
       "    <tr>\n",
       "      <th>1</th>\n",
       "      <td>4686</td>\n",
       "      <td>VC 투자+기보 보증 ‘레버리지보증’ 나왔다                      ...</td>\n",
       "      <td>0</td>\n",
       "    </tr>\n",
       "    <tr>\n",
       "      <th>2</th>\n",
       "      <td>3419</td>\n",
       "      <td>[인사]예금보험공사                                    ...</td>\n",
       "      <td>0</td>\n",
       "    </tr>\n",
       "    <tr>\n",
       "      <th>3</th>\n",
       "      <td>2209</td>\n",
       "      <td>'삼부토건' 5% 이상 상승, 전일 외국인 대량 순매수                ...</td>\n",
       "      <td>0</td>\n",
       "    </tr>\n",
       "    <tr>\n",
       "      <th>4</th>\n",
       "      <td>1421</td>\n",
       "      <td>숨랩 | 여름용 마스크 ‘라이트 마스크’ 뜨거운 반응                 ...</td>\n",
       "      <td>0</td>\n",
       "    </tr>\n",
       "    <tr>\n",
       "      <th>...</th>\n",
       "      <td>...</td>\n",
       "      <td>...</td>\n",
       "      <td>...</td>\n",
       "    </tr>\n",
       "    <tr>\n",
       "      <th>5126</th>\n",
       "      <td>447</td>\n",
       "      <td>에스엔유(080000)  소폭 상승세 +4.51%, 닷새째 상승           ...</td>\n",
       "      <td>0</td>\n",
       "    </tr>\n",
       "    <tr>\n",
       "      <th>5127</th>\n",
       "      <td>1663</td>\n",
       "      <td>건보공단, 아프리카 감비아에 '건강보험 통합패키지' 전파 추진            ...</td>\n",
       "      <td>0</td>\n",
       "    </tr>\n",
       "    <tr>\n",
       "      <th>5128</th>\n",
       "      <td>306</td>\n",
       "      <td>완도군-목포대 '2021 완도국제해조류박람회' 성공개최 맞손             ...</td>\n",
       "      <td>0</td>\n",
       "    </tr>\n",
       "    <tr>\n",
       "      <th>5129</th>\n",
       "      <td>2501</td>\n",
       "      <td>[윤중로] 코로나 묵시록                                 ...</td>\n",
       "      <td>0</td>\n",
       "    </tr>\n",
       "    <tr>\n",
       "      <th>5130</th>\n",
       "      <td>3690</td>\n",
       "      <td>잇츠한불, +8.94% VI 발동                            ...</td>\n",
       "      <td>0</td>\n",
       "    </tr>\n",
       "  </tbody>\n",
       "</table>\n",
       "<p>5131 rows × 3 columns</p>\n",
       "</div>"
      ],
      "text/plain": [
       "      Unnamed: 0                                              title  label\n",
       "0           2831  콜마비앤에이치(200130), 52주 신고가                      ...      0\n",
       "1           4686  VC 투자+기보 보증 ‘레버리지보증’ 나왔다                      ...      0\n",
       "2           3419  [인사]예금보험공사                                    ...      0\n",
       "3           2209  '삼부토건' 5% 이상 상승, 전일 외국인 대량 순매수                ...      0\n",
       "4           1421  숨랩 | 여름용 마스크 ‘라이트 마스크’ 뜨거운 반응                 ...      0\n",
       "...          ...                                                ...    ...\n",
       "5126         447  에스엔유(080000)  소폭 상승세 +4.51%, 닷새째 상승           ...      0\n",
       "5127        1663  건보공단, 아프리카 감비아에 '건강보험 통합패키지' 전파 추진            ...      0\n",
       "5128         306  완도군-목포대 '2021 완도국제해조류박람회' 성공개최 맞손             ...      0\n",
       "5129        2501  [윤중로] 코로나 묵시록                                 ...      0\n",
       "5130        3690  잇츠한불, +8.94% VI 발동                            ...      0\n",
       "\n",
       "[5131 rows x 3 columns]"
      ]
     },
     "execution_count": 28,
     "metadata": {},
     "output_type": "execute_result"
    }
   ],
   "source": [
    "test_old"
   ]
  },
  {
   "cell_type": "code",
   "execution_count": 31,
   "metadata": {},
   "outputs": [
    {
     "data": {
      "text/plain": [
       "array([0, 0, 1, ..., 1, 0, 0], dtype=int64)"
      ]
     },
     "execution_count": 31,
     "metadata": {},
     "output_type": "execute_result"
    }
   ],
   "source": [
    "predict_labels"
   ]
  },
  {
   "cell_type": "code",
   "execution_count": 33,
   "metadata": {},
   "outputs": [
    {
     "data": {
      "text/plain": [
       "0.8717598908594816"
      ]
     },
     "execution_count": 33,
     "metadata": {},
     "output_type": "execute_result"
    }
   ],
   "source": [
    "sum(test_old.label==predict_labels)/len(predict_labels)"
   ]
  },
  {
   "cell_type": "code",
   "execution_count": 58,
   "metadata": {},
   "outputs": [
    {
     "data": {
      "text/plain": [
       "0.12824010914051842"
      ]
     },
     "execution_count": 58,
     "metadata": {},
     "output_type": "execute_result"
    }
   ],
   "source": [
    "sum(test_old.label!=predict_labels)/len(predict_labels)"
   ]
  },
  {
   "cell_type": "markdown",
   "metadata": {},
   "source": [
    "### Tokenization example"
   ]
  },
  {
   "cell_type": "code",
   "execution_count": 48,
   "metadata": {},
   "outputs": [],
   "source": [
    "from konlpy.tag import Okt\n",
    "okt=Okt()"
   ]
  },
  {
   "cell_type": "code",
   "execution_count": 57,
   "metadata": {},
   "outputs": [
    {
     "data": {
      "text/plain": [
       "'버핏, 미국 천연가스 운송·저장설비 4조8천억에 인수'"
      ]
     },
     "execution_count": 57,
     "metadata": {},
     "output_type": "execute_result"
    }
   ],
   "source": [
    "sentence='버핏, 미국 천연가스 운송·저장설비 4조8천억에 인수'\n",
    "sentence"
   ]
  },
  {
   "cell_type": "code",
   "execution_count": 49,
   "metadata": {},
   "outputs": [
    {
     "data": {
      "text/plain": [
       "['버핏', ',', '미국', '천연가스', '운송', '·', '저장', '설비', '4조', '8천억', '에', '인수']"
      ]
     },
     "execution_count": 49,
     "metadata": {},
     "output_type": "execute_result"
    }
   ],
   "source": [
    "K_nouns=okt.morphs(sentence, stem=True)\n",
    "K_nouns"
   ]
  },
  {
   "cell_type": "code",
   "execution_count": 51,
   "metadata": {},
   "outputs": [],
   "source": [
    "stopwords = [',','·', '에', '은', '들', '는', '좀', '잘', '과', '도', '를', '으로', '자', '에', '와', '한', '하다']"
   ]
  },
  {
   "cell_type": "code",
   "execution_count": 52,
   "metadata": {},
   "outputs": [
    {
     "data": {
      "text/plain": [
       "['버핏', '미국', '천연가스', '운송', '저장', '설비', '4조', '8천억', '인수']"
      ]
     },
     "execution_count": 52,
     "metadata": {},
     "output_type": "execute_result"
    }
   ],
   "source": [
    "K_nouns = [word for word in K_nouns if not word in stopwords]  \n",
    "K_nouns"
   ]
  }
 ],
 "metadata": {
  "kernelspec": {
   "display_name": "Python 3",
   "language": "python",
   "name": "python3"
  },
  "language_info": {
   "codemirror_mode": {
    "name": "ipython",
    "version": 3
   },
   "file_extension": ".py",
   "mimetype": "text/x-python",
   "name": "python",
   "nbconvert_exporter": "python",
   "pygments_lexer": "ipython3",
   "version": "3.7.5"
  }
 },
 "nbformat": 4,
 "nbformat_minor": 4
}
