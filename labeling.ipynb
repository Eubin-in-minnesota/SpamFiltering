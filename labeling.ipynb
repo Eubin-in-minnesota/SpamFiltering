{
 "cells": [
  {
   "cell_type": "code",
   "execution_count": 1,
   "metadata": {},
   "outputs": [
    {
     "name": "stderr",
     "output_type": "stream",
     "text": [
      "Using TensorFlow backend.\n"
     ]
    }
   ],
   "source": [
    "import pandas as pd\n",
    "import numpy as np\n",
    "import codecs\n",
    "import konlpy\n",
    "from konlpy.tag import Okt\n",
    "from sklearn.model_selection import train_test_split\n",
    "from keras.preprocessing.text import Tokenizer \n",
    "from keras.layers import Embedding, Dense, LSTM \n",
    "from keras.models import Sequential \n",
    "from keras.preprocessing.sequence import pad_sequences"
   ]
  },
  {
   "cell_type": "markdown",
   "metadata": {},
   "source": [
    "### Data import"
   ]
  },
  {
   "cell_type": "code",
   "execution_count": 2,
   "metadata": {},
   "outputs": [],
   "source": [
    "train_old=pd.read_csv('./train_oldlabel.csv', encoding='utf-8',index_col=False)\n",
    "test_old=pd.read_csv('./test_oldlabel.csv', encoding='utf-8',index_col=False)"
   ]
  },
  {
   "cell_type": "markdown",
   "metadata": {},
   "source": [
    "### 스팸 단어 리스트 import"
   ]
  },
  {
   "cell_type": "code",
   "execution_count": 3,
   "metadata": {},
   "outputs": [
    {
     "data": {
      "text/plain": [
       "''"
      ]
     },
     "execution_count": 3,
     "metadata": {},
     "output_type": "execute_result"
    }
   ],
   "source": [
    "positive = [] \n",
    "\n",
    "pos = codecs.open('./pos_2.txt', 'r') \n",
    "while True: \n",
    "    line = pos.readline() \n",
    "    line = line.replace('\\n', '') \n",
    "    positive.append(line) \n",
    "    if not line: \n",
    "        break \n",
    "        \n",
    "pos.close()\n",
    "positive.pop() # 마지막 값 제거 ('')"
   ]
  },
  {
   "cell_type": "markdown",
   "metadata": {},
   "source": [
    "### Test set new labeling"
   ]
  },
  {
   "cell_type": "code",
   "execution_count": 4,
   "metadata": {},
   "outputs": [],
   "source": [
    "titles=test_old.title\n",
    "label = [0] * len(titles)\n",
    "my_title_dic = {\"title\":[], \"newlabel\":label}\n",
    "\n",
    "j = 0\n",
    "for data in titles: \n",
    "    my_title_dic['title'].append(data)\n",
    "\n",
    "    for i in range(len(positive)): \n",
    "        posflag = False  \n",
    "        if data.find(positive[i]) != -1: \n",
    "            posflag = True \n",
    "            break \n",
    "\n",
    "        else:\n",
    "            posflag = False \n",
    "\n",
    "    if posflag == True: \n",
    "        label[j] = 1 \n",
    "    else: \n",
    "        label[j] = 0\n",
    "\n",
    "    j=j+1 \n",
    "    \n",
    "my_title_dic['newlabel'] = label \n",
    "my_title_df = pd.DataFrame(my_title_dic)"
   ]
  },
  {
   "cell_type": "code",
   "execution_count": 5,
   "metadata": {},
   "outputs": [],
   "source": [
    "def dftoCsv(my_title_df): \n",
    "    my_title_df.to_csv(('./TEST_test_newlabel.csv'), sep=',', na_rep='NaN', encoding='utf-8')\n",
    "dftoCsv(my_title_df)"
   ]
  },
  {
   "cell_type": "markdown",
   "metadata": {},
   "source": [
    "### Train set new labeling"
   ]
  },
  {
   "cell_type": "code",
   "execution_count": 6,
   "metadata": {},
   "outputs": [],
   "source": [
    "titles=train_old.title\n",
    "label = [0] * len(titles)\n",
    "my_title_dic = {\"title\":[], \"newlabel\":label}\n",
    "\n",
    "j = 0\n",
    "for data in titles: \n",
    "    my_title_dic['title'].append(data)\n",
    "\n",
    "    for i in range(len(positive)): \n",
    "        posflag = False  \n",
    "        if data.find(positive[i]) != -1: \n",
    "            posflag = True \n",
    "            break \n",
    "\n",
    "        else:\n",
    "            posflag = False \n",
    "\n",
    "    if posflag == True: \n",
    "        label[j] = 1 \n",
    "    else: \n",
    "        label[j] = 0\n",
    "\n",
    "    j=j+1 \n",
    "    \n",
    "my_title_dic['newlabel'] = label \n",
    "my_title_df = pd.DataFrame(my_title_dic)"
   ]
  },
  {
   "cell_type": "code",
   "execution_count": 7,
   "metadata": {},
   "outputs": [],
   "source": [
    "def dftoCsv(my_title_df): \n",
    "    my_title_df.to_csv(('./TEST_train_newlabel.csv'), sep=',', na_rep='NaN', encoding='utf-8')\n",
    "dftoCsv(my_title_df)"
   ]
  }
 ],
 "metadata": {
  "kernelspec": {
   "display_name": "Python 3",
   "language": "python",
   "name": "python3"
  },
  "language_info": {
   "codemirror_mode": {
    "name": "ipython",
    "version": 3
   },
   "file_extension": ".py",
   "mimetype": "text/x-python",
   "name": "python",
   "nbconvert_exporter": "python",
   "pygments_lexer": "ipython3",
   "version": "3.7.5"
  }
 },
 "nbformat": 4,
 "nbformat_minor": 4
}
